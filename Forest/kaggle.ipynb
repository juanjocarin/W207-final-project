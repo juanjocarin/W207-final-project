{
 "cells": [
  {
   "cell_type": "markdown",
   "metadata": {},
   "source": [
    "# Kaggle comp demo"
   ]
  },
  {
   "cell_type": "code",
   "execution_count": 11,
   "metadata": {
    "collapsed": true
   },
   "outputs": [],
   "source": [
    "# This tells matplotlib not to try opening a new window for each plot.\n",
    "%matplotlib inline\n",
    "\n",
    "# General libraries.\n",
    "import numpy as np\n",
    "import matplotlib.pyplot as plt\n",
    "\n",
    "# SK-learn libraries for learning.\n",
    "from sklearn.pipeline import Pipeline\n",
    "from sklearn.neighbors import KNeighborsClassifier\n",
    "from sklearn.grid_search import GridSearchCV\n",
    "\n",
    "# SK-learn libraries for evaluation.\n",
    "from sklearn.metrics import confusion_matrix\n",
    "from sklearn import metrics\n",
    "from sklearn.metrics import classification_report"
   ]
  },
  {
   "cell_type": "markdown",
   "metadata": {},
   "source": [
    "Let's talk about how to enter a kaggle competition.\n",
    "Frist you sign up for kaggle.\n",
    "\n",
    "https://www.kaggle.com\n",
    "\n",
    "then, you find a competition. We'll use the MNIST digit data set!\n",
    "\n",
    "https://www.kaggle.com/c/digit-recognizer\n",
    "\n",
    "We now have a couple of csv files, test.csv, and train.csv\n",
    "\n",
    "Find where they live on your file system, and now we need to load the data:"
   ]
  },
  {
   "cell_type": "code",
   "execution_count": 14,
   "metadata": {
    "collapsed": false
   },
   "outputs": [
    {
     "name": "stdout",
     "output_type": "stream",
     "text": [
      "(565892L, 55L)\n",
      "(15120L, 55L)\n",
      "(15120L,)\n"
     ]
    }
   ],
   "source": [
    "ff = \"train.csv\" # you will need to edit this directory\n",
    "f = open(ff)\n",
    "column_names = f.readline() # you'd needs this ordinarily\n",
    "\n",
    "data = np.loadtxt(f, delimiter=\",\")\n",
    "\n",
    "y, X = data[:, -1], data[:, :-1]\n",
    "\n",
    "ff_test = \"test.csv\" # you will need to edit this directory\n",
    "f_test = open(ff_test)\n",
    "column_names_test = f_test.readline() # you'd needs this ordinarily\n",
    "\n",
    "data_test = np.loadtxt(f_test, delimiter=\",\")\n",
    "\n",
    "# note there are no labels here!\n",
    "X_test = data_test\n",
    "\n",
    "print X_test.shape\n",
    "print X.shape\n",
    "print y.shape"
   ]
  },
  {
   "cell_type": "code",
   "execution_count": null,
   "metadata": {
    "collapsed": false
   },
   "outputs": [],
   "source": [
    "print y"
   ]
  },
  {
   "cell_type": "markdown",
   "metadata": {},
   "source": [
    "Now, we train a model, let's just do KNN, no time to think!"
   ]
  },
  {
   "cell_type": "code",
   "execution_count": 17,
   "metadata": {
    "collapsed": false
   },
   "outputs": [
    {
     "name": "stdout",
     "output_type": "stream",
     "text": [
      "[ 1.  1.  1. ...,  1.  1.  1.]\n"
     ]
    }
   ],
   "source": [
    "# to make this faster, just use the first 1000\n",
    "y_train, X_train = y[:1000], X[:1000, :]\n",
    "\n",
    "kn = KNeighborsClassifier(n_neighbors=1)\n",
    "\n",
    "kn.fit(X_train, y_train)\n",
    "\n",
    "# here's what we need to send back to Kaggle\n",
    "preds = kn.predict(X_test)\n",
    "print preds"
   ]
  },
  {
   "cell_type": "markdown",
   "metadata": {},
   "source": [
    "Now we need to save the output to a textfile, and upload the results to kaggle!\n",
    "\n",
    "Read the data page to make you submission the right format:\n",
    "\n",
    "https://www.kaggle.com/c/digit-recognizer/data"
   ]
  },
  {
   "cell_type": "code",
   "execution_count": 23,
   "metadata": {
    "collapsed": false
   },
   "outputs": [],
   "source": [
    "test_lab_f = open(\"test_labeled.csv\", \"w\") # you will need to edit this directory\n",
    "\n",
    "test_lab_f.write(\"ImageId,Label\")\n",
    "\n",
    "idx = 0\n",
    "                 \n",
    "for pp in preds:\n",
    "    idx += 1\n",
    "    test_lab_f.write(\"\\n\")\n",
    "    test_lab_f.write(str(idx) + \",\" + str(int(pp)))\n",
    "   \n",
    "\n",
    "test_lab_f.close()"
   ]
  },
  {
   "cell_type": "code",
   "execution_count": null,
   "metadata": {
    "collapsed": true
   },
   "outputs": [],
   "source": []
  }
 ],
 "metadata": {
  "kernelspec": {
   "display_name": "Python 2",
   "language": "python",
   "name": "python2"
  },
  "language_info": {
   "codemirror_mode": {
    "name": "ipython",
    "version": 2
   },
   "file_extension": ".py",
   "mimetype": "text/x-python",
   "name": "python",
   "nbconvert_exporter": "python",
   "pygments_lexer": "ipython2",
   "version": "2.7.9"
  }
 },
 "nbformat": 4,
 "nbformat_minor": 0
}
