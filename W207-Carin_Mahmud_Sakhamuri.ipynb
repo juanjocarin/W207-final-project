{
 "cells": [
  {
   "cell_type": "markdown",
   "metadata": {},
   "source": [
    "<a id='top'></a>"
   ]
  },
  {
   "cell_type": "markdown",
   "metadata": {},
   "source": [
    "#FOREST COVER TYPE PREDICTION\n",
    "\n",
    "###W207 (MIDS) - Summer semester 2015\n",
    "\n",
    "Submitted by:\n",
    "\n",
    "* **Juanjo Carin**\n",
    "* **Tuhin Mahmud**\n",
    "* **Vamsi Sakhamuri**\n",
    "\n",
    "Date: August 18, 2015\n",
    "\n",
    "Kaggle Competition hosted at https://www.kaggle.com/c/forest-cover-type-prediction"
   ]
  },
  {
   "cell_type": "markdown",
   "metadata": {},
   "source": [
    "##Contents\n",
    "\n",
    "* <a href='#OBJECTIVE'>OBJECTIVE: Use cartographic variables to classify forest categories</a>\n",
    "\n",
    "* <a href='#DATA'>Loading, preparing, and exploring the DATA</a>\n",
    "\n",
    "* <a href='#MODELS'>MODELS</a>\n",
    "\n",
    "    * <a href='#k-Nearest_Neighbors'>k-Nearest Neighbors (kNN)</a>\n",
    "\n",
    "    * <a href='#Decision_Trees'>Decision Trees</a>\n",
    "\n",
    "    * <a href='#Random_Forests'>Random Forests</a>\n",
    "\n",
    "    * <a href='#ExtraTrees'>Extra Trees Classifier</a>\n",
    "\n",
    "    * <a href='#AdaBoost'>AdaBoost</a>\n",
    "\n",
    "    * <a href='#SVM'>Support Vector Machines</a>\n",
    "\n",
    "    * <a href='#GMM'>Gaussian Mixture Model</a>\n",
    "\n",
    "* <a href='#Features'>ENGINEERING NEW FEATURES</a>\n",
    "\n",
    "* <a href='#Ensemble'>CUSTOM ENSEMBLE</a>\n",
    "\n",
    "* <a href='#RESULTS'>RESULTS</a>\n",
    "\n",
    "\n",
    "* <a href='#ANNEXES'>ANNEXES</a>\n",
    "\n",
    "    * <a href='#Annex_1'>Annex 1: Plotting the training dataset with PCs</a>\n",
    "\n",
    "    * <a href='#Annex_2'>Annex 2: Feature analysis</a>\n",
    "\n",
    "    * <a href='#Annex_3'>Annex 3: Other models (Naive Bayes, Logistic Regression, and SGD)</a>\n"
   ]
  },
  {
   "cell_type": "markdown",
   "metadata": {},
   "source": [
    "##Summary\n",
    "\n",
    "We used the most typical classifiers that we covered in the course, with the exception of **Neural Networks** (week 7). These are:\n",
    "\n",
    "- **k Nearest Neighbors** (week 2)\n",
    "- **Naive Bayes** (week 3)\n",
    "- **Decision Trees**, as well as **Random Forests**, **Extra Trees**, and **AdaBoost** (week 4)\n",
    "- **Logistic Regression** (week 5)\n",
    "- **Stochastic Gradient Descent** (week 6)\n",
    "- **Support Vector Machines** (week 8)\n",
    "- **Gaussian Mixture Models** (week 10) used for classification\n",
    "\n",
    "As we'll see later, **AdaBoost combined with Extra Trees** yielded the best results, followed by **Extra Trees** alone, **Random Forests**, **Nearest Neighbors**, **SVMs**, **GMM**, and **Decision Trees**. **Naive Bayes**, **Logistic Regression**, and **SGD** did not perform very well for this problem (and hence they are included in the Annexes at the end).\n",
    "\n",
    "The analysis of the existing features led us to engineer new ones, which we used to improve that best model (AdaBoost).\n",
    "\n",
    "Finally we ensembled the results of all models, weighting them by their accuracy.\n",
    "\n",
    "Nonetheless, the predictions were not as accurate for the test set as they had been for the dev set we created from the training set, because the available data we had to train our models was quite different from the data we had to predict (the former was not a representative sample of the latter, or vice versa)."
   ]
  },
  {
   "cell_type": "markdown",
   "metadata": {},
   "source": [
    "----"
   ]
  },
  {
   "cell_type": "markdown",
   "metadata": {},
   "source": [
    "<a id='OBJECTIVE'></a>"
   ]
  },
  {
   "cell_type": "markdown",
   "metadata": {},
   "source": [
    "#OBJECTIVE: Use cartographic variables to classify forest categories\n",
    "\n",
    "<a href='#top'>[Back to top]</a>\n",
    "\n",
    "In this competition we are asked to predict the **forest cover type** (the predominant kind of tree cover) from strictly cartographic variables (as opposed to remotely sensed data). The actual forest cover type for a given 30 x 30 meter cell was determined from US Forest Service (USFS) Region 2 Resource Information System data. Independent variables were then derived from data obtained from the US Geological Survey and USFS. The data is in raw form (not scaled) and contains binary columns of data for qualitative independent variables such as wilderness areas and soil type.\n",
    "\n",
    "This study area includes 4 wilderness areas located in the Roosevelt National Forest of northern Colorado. These areas represent forests with minimal human-caused disturbances, so that existing forest cover types are more a result of ecological processes rather than forest management practices."
   ]
  },
  {
   "cell_type": "markdown",
   "metadata": {},
   "source": [
    "Information about the **7 possible types** of forest cover (coded as integers from `1` to `7`), as well as the 54 features, can be found at https://www.kaggle.com/c/forest-cover-type-prediction/data.\n",
    "\n",
    "As mentioned there, the training set contains 15,120 observations, whereas the test set contains 565,892 observations (about 37 times larger than the training set). Both sets contain information about 10 continuous features (listed below), and 2 categorical features (`wilderness area` and `soil type`), with 4 and 40 categories each (coded as 4 and 40 binary features, respectively, where 1 indicates presence and 0 indicates absence).\n",
    "\n",
    "- Elevation (in meters)\n",
    "- Aspect (in degrees azimuth)\n",
    "- Slope (in degrees)\n",
    "- Horizontal_Distance_To_Hydrology (i.e., to nearest surface water features)\n",
    "- Vertical_Distance_To_Hydrology (ditto)\n",
    "- Horizontal_Distance_To_Roadways (to nearest roadway)\n",
    "- Hillshade_9am (0 to 255 index): Hillshade index at 9am, summer solstice\n",
    "- Hillshade_Noon (0 to 255 index): Hillshade index at noon, summer solstice\n",
    "- Hillshade_3pm (0 to 255 index): Hillshade index at 3pm, summer solstice\n",
    "- Horizontal_Distance_To_Fire_Points (i.e., to nearest wildfire ignition points)\n"
   ]
  },
  {
   "cell_type": "markdown",
   "metadata": {},
   "source": [
    "<a id='DATA'></a>"
   ]
  },
  {
   "cell_type": "markdown",
   "metadata": {},
   "source": [
    "#Loading, preparing, and exploring the DATA\n",
    "\n",
    "<a href='#top'>[Back to top]</a>\n",
    "\n",
    "First we import the libraries we'll use along this project."
   ]
  },
  {
   "cell_type": "code",
   "execution_count": 19,
   "metadata": {
    "collapsed": false
   },
   "outputs": [],
   "source": [
    "# This tells matplotlib not to try opening a new window for each plot.\n",
    "%matplotlib inline\n",
    "\n",
    "# General libraries.\n",
    "import numpy as np\n",
    "import matplotlib.pyplot as plt\n",
    "\n",
    "# SK-learn libraries for learning.\n",
    "from sklearn.pipeline import Pipeline\n",
    "from sklearn.neighbors import KNeighborsClassifier\n",
    "from sklearn.grid_search import GridSearchCV\n",
    "from sklearn.tree import DecisionTreeClassifier\n",
    "from sklearn.naive_bayes import GaussianNB\n",
    "from sklearn import ensemble\n",
    "from sklearn.linear_model import LogisticRegression\n",
    "from sklearn.svm import SVC\n",
    "from sklearn.grid_search import RandomizedSearchCV\n",
    "from sklearn.mixture import GMM\n",
    "from sklearn import linear_model\n",
    "from sklearn.ensemble import AdaBoostClassifier\n",
    "\n",
    "# SK-learn libraries for evaluation.\n",
    "from sklearn.metrics import confusion_matrix\n",
    "from sklearn import metrics\n",
    "from sklearn.metrics import classification_report\n",
    "\n",
    "# SK-learn libraries for feature preprocessing.\n",
    "from sklearn import preprocessing\n",
    "\n",
    "# SK-learn libraries for dimensionality reduction.\n",
    "from sklearn.decomposition import PCA\n",
    "\n",
    "# Data analysis and plotting \n",
    "import pandas as pd\n",
    "import seaborn as sns\n",
    "from scipy import stats"
   ]
  },
  {
   "cell_type": "markdown",
   "metadata": {},
   "source": [
    "Next we load the training and test data sets."
   ]
  },
  {
   "cell_type": "code",
   "execution_count": 20,
   "metadata": {
    "collapsed": false
   },
   "outputs": [
    {
     "name": "stdout",
     "output_type": "stream",
     "text": [
      "The test dataset contains 565892 observations with 55 features each.\n",
      "\t(The 1st one is not really a feature but an observation ID.)\n",
      "The training dataset contains 15120 observations with the same 55 features each.\n",
      "For this training set we know the corresponding category (forest cover type) of the 15120 observations.\n"
     ]
    }
   ],
   "source": [
    "ff = \"Forest/train.csv\"\n",
    "f = open(ff)\n",
    "column_names = f.readline()\n",
    "\n",
    "data = np.loadtxt(f, delimiter=\",\")\n",
    "\n",
    "y, X = data[:, -1].astype('u1'), data[:, :-1]\n",
    "\n",
    "ff_test = \"Forest/test.csv\" # you will need to edit this directory\n",
    "f_test = open(ff_test)\n",
    "column_names_test = f_test.readline() # you'd needs this ordinarily\n",
    "\n",
    "data_test = np.loadtxt(f_test, delimiter=\",\")\n",
    "\n",
    "# note there are no labels here!\n",
    "X_test = data_test\n",
    "\n",
    "print 'The test dataset contains {0} observations with {1} features each.'.\\\n",
    "    format(X_test.shape[0], X_test.shape[1])\n",
    "print '\\t(The 1st one is not really a feature but an observation ID.)'\n",
    "print 'The training dataset contains {0} observations with the same {1} features each.'.\\\n",
    "    format(X.shape[0], X.shape[1])\n",
    "print 'For this training set we know the corresponding category (forest cover type) of the ' \\\n",
    "      '{0} observations.'.format(y.shape[0])"
   ]
  },
  {
   "cell_type": "markdown",
   "metadata": {},
   "source": [
    "Let's take a look at the distribution of values, for the continuous features.\n",
    "\n",
    "In the training set..."
   ]
  },
  {
   "cell_type": "code",
   "execution_count": 21,
   "metadata": {
    "collapsed": false
   },
   "outputs": [
    {
     "data": {
      "image/png": "[encoded data removed]",
      "text/plain": [
       "<matplotlib.figure.Figure at 0x5ff99240>"
      ]
     },
     "metadata": {},
     "output_type": "display_data"
    }
   ],
   "source": [
    "Train_panda = pd.read_csv('Forest/train.csv')\n",
    "Train_panda.ix[:,1:11].hist(figsize=(16,12),bins=50)\n",
    "plt.show()"
   ]
  },
  {
   "cell_type": "markdown",
   "metadata": {},
   "source": [
    "...as well as in the test set."
   ]
  },
  {
   "cell_type": "code",
   "execution_count": 22,
   "metadata": {
    "collapsed": false
   },
   "outputs": [
    {
     "data": {
      "image/png": "[encoded data removed]",
      "text/plain": [
       "<matplotlib.figure.Figure at 0x4d79ad68>"
      ]
     },
     "metadata": {},
     "output_type": "display_data"
    }
   ],
   "source": [
    "Test_panda = pd.read_csv('Forest/test.csv')\n",
    "Test_panda.ix[:,1:11].hist(figsize=(16,12),bins=50)\n",
    "plt.show()"
   ]
  },
  {
   "cell_type": "markdown",
   "metadata": {},
   "source": [
    "The histograms of each feature, for both the training and test sets look quite similar (with the exception of `Elevation` and `Slope`). We noticed that the histogram of `Hillshade_3pm` contains several `0`'s, especially in the training set, which might make us think of missing values coded with `0`, but according to the dataset description that feature can take this value, so we shall accept those values as valid. There may be due to measurement error or rounding (in the same way that the histogram of `Hillshade_9am` for the training set contains more `255`'s than the distribution suggests), but in the absence of more information we can't substitute those `0`'s by some other value like hte median or the mean.\n",
    "\n",
    "> We did that, anyway (substitute `0`'s by the median, as seen below), and the accuracy for the dev set increased slightly (by about 0.5%) in most of the models that we tried."
   ]
  },
  {
   "cell_type": "code",
   "execution_count": 23,
   "metadata": {
    "collapsed": false
   },
   "outputs": [],
   "source": [
    "# X[:,9] = np.where(X[:,9]==0, np.median(X[X[:,9]!=0,9]), X[:,9])\n",
    "# X_test[:,9] = np.where(X_test[:,9]==0, np.median(X_test[X_test[:,9]!=0,9]), \n",
    "#                        X_test[:,9])"
   ]
  },
  {
   "cell_type": "markdown",
   "metadata": {},
   "source": [
    "To evaluate our performance, we'll split the training set in 2 subsets: **training** data (90%) plus **development** (aka **validation**) data (10%). **Test** data *must not* be used to validate our models, otherwise we might introduce bias: the more times we look at the error rate on the test set, the more we know about the test data, and the more we include our knowledge (that's very specific to that test data set) in the way we solve the problem.\n",
    "\n",
    "> Nonetheless, in most cases we used *cross-validation* in many cases, to assess how the results of one model generalize to another data set: with this model validation technique, the training data are partitioned into complementary subsets, multiple rounds of cross-validation are performed using different partitions, and the results are averaged.\n",
    "\n",
    "We also discard the 1st variable (ID), which does not provide any information about the forest cover type."
   ]
  },
  {
   "cell_type": "code",
   "execution_count": 24,
   "metadata": {
    "collapsed": false
   },
   "outputs": [
    {
     "name": "stdout",
     "output_type": "stream",
     "text": [
      "(1512L, 54L) (13608L, 54L)\n"
     ]
    }
   ],
   "source": [
    "# Shuffle the data, but make sure that the features and accompanying labels stay in sync.\n",
    "np.random.seed(0)\n",
    "shuffle = np.random.permutation(np.arange(X.shape[0]))\n",
    "X, y = X[shuffle], y[shuffle]\n",
    "\n",
    "# Split into train (90%) and dev (10%)\n",
    "train_size = int(X.shape[0] * 0.9)\n",
    "# Also discard 1st feature (ID number that doesn't provide info about the label)\n",
    "y_train, X_train = y[:train_size], X[:train_size, 1:]\n",
    "y_dev, X_dev = y[train_size:], X[train_size:, 1:]\n",
    "X_test = X_test[:, 1:]\n",
    "print X_dev.shape, X_train.shape"
   ]
  },
  {
   "cell_type": "markdown",
   "metadata": {},
   "source": [
    "As previously mentioned, the first 10 features of each observation (`Elevation` to `Horizontal_Distance_To_Fire_Points`) are continuous, with different ranges, while the remaining 44 are all binary. 4 of those 44 binary features correspond to `Wilderness Area` (i.e., there are 4 possible types), so any observation will have one 1 and three 0's in those columns. The last 40 features correspond to `Soil Type` (i.e., there are 40 possible types), so any observation will have one 1 and thirty-nine 0's in those columns."
   ]
  },
  {
   "cell_type": "code",
   "execution_count": 25,
   "metadata": {
    "collapsed": false,
    "scrolled": false
   },
   "outputs": [
    {
     "data": {
      "image/png": "[encoded data removed]",
      "text/plain": [
       "<matplotlib.figure.Figure at 0x32880518>"
      ]
     },
     "metadata": {},
     "output_type": "display_data"
    },
    {
     "data": {
      "image/png": "[encoded data removed]",
      "text/plain": [
       "<matplotlib.figure.Figure at 0x5eda16d8>"
      ]
     },
     "metadata": {},
     "output_type": "display_data"
    }
   ],
   "source": [
    "prop_wilderness = 100*X_train[:,10:14].sum(axis=0)/X_train[:,10:14].sum()\n",
    "prop_soil = 100*X_train[:,14:54].sum(axis=0)/X_train[:,14:54].sum()\n",
    "\n",
    "plt.figure(figsize=(8, 4))\n",
    "plt.bar(np.arange(4), prop_wilderness, align=\"center\")\n",
    "plt.title(\"Percentage of Wilderness Area cases in the training dataset\")\n",
    "plt.xticks(np.arange(4), np.array([str(i) for i in np.arange(1,5)]))\n",
    "\n",
    "plt.figure(figsize=(12, 4))\n",
    "plt.bar(np.arange(40), prop_soil, align=\"center\")\n",
    "plt.title(\"Percentage of Soil Type cases in the training dataset\")\n",
    "plt.xticks(np.arange(40), np.array([str(i) for i in np.arange(1,41)]))\n",
    "\n",
    "plt.show()"
   ]
  },
  {
   "cell_type": "markdown",
   "metadata": {},
   "source": [
    "The type of `Wilderness Area` is roughly uniformly distributed among the observations in the training set, with the exception of the 2nd type (only 3.3%).\n",
    "\n",
    "`Soil Type` is not uniformly distributed at all: many types are quite uncommon, while others account for up to 14.1% of the cases."
   ]
  },
  {
   "cell_type": "code",
   "execution_count": 26,
   "metadata": {
    "collapsed": false
   },
   "outputs": [
    {
     "data": {
      "image/png": "[encoded data removed]",
      "text/plain": [
       "<matplotlib.figure.Figure at 0x1a90b668>"
      ]
     },
     "metadata": {},
     "output_type": "display_data"
    },
    {
     "data": {
      "image/png": "[encoded data removed]",
      "text/plain": [
       "<matplotlib.figure.Figure at 0x380bb668>"
      ]
     },
     "metadata": {},
     "output_type": "display_data"
    }
   ],
   "source": [
    "prop_wilderness = 100*X_test[:,10:14].sum(axis=0)/X_test[:,10:14].sum()\n",
    "prop_soil = 100*X_test[:,14:54].sum(axis=0)/X_test[:,14:54].sum()\n",
    "\n",
    "plt.figure(figsize=(8, 4))\n",
    "plt.bar(np.arange(4), prop_wilderness, align=\"center\")\n",
    "plt.title(\"Percentage of Wilderness Area cases in the test dataset\")\n",
    "plt.xticks(np.arange(4), np.array([str(i) for i in np.arange(1,5)]))\n",
    "\n",
    "plt.figure(figsize=(12, 4))\n",
    "plt.bar(np.arange(40), prop_soil, align=\"center\")\n",
    "plt.title(\"Percentage of Soil Type cases in the test dataset\")\n",
    "plt.xticks(np.arange(40), np.array([str(i) for i in np.arange(1,41)]))\n",
    "\n",
    "plt.show()"
   ]
  },
  {
   "cell_type": "markdown",
   "metadata": {},
   "source": [
    "The distribution of the binary features differ quite much from the training to the test set."
   ]
  },
  {
   "cell_type": "markdown",
   "metadata": {},
   "source": [
    "**A more detaileds study of the features is included in the <a href='#Features'>ENGINEERING NEW FEATURES</a> section.**"
   ]
  },
  {
   "cell_type": "markdown",
   "metadata": {},
   "source": [
    "For the 10 continuous features we sometimes used `preprocessing.StandardScaler` (to standardize themby removing the mean and scaling to unit variance), as well as `preprocessing.MinMaxScaler` (to standardize them by scaling each feature to a given range; [0,1] in our case, to make it comparable to the binary features). That did not always improve the results, but scaled features are mandatory for some models.\n",
    "\n",
    "http://scikit-learn.org/stable/modules/preprocessing.html"
   ]
  },
  {
   "cell_type": "code",
   "execution_count": 27,
   "metadata": {
    "collapsed": true
   },
   "outputs": [],
   "source": [
    "# Scale to range [0,1]\n",
    "    # Only the continuous features\n",
    "min_max_scaler = preprocessing.MinMaxScaler()\n",
    "X_train_minmax = np.copy(X_train)\n",
    "X_dev_minmax = np.copy(X_dev)\n",
    "X_test_minmax = np.copy(X_test)\n",
    "X_train_minmax[:, :10] = min_max_scaler.fit_transform(X_train[:, :10])\n",
    "X_dev_minmax[:, :10]  = min_max_scaler.transform(X_dev[:, :10])\n",
    "X_test_minmax[:, :10] = min_max_scaler.transform(X_test[:, :10])\n",
    "\n",
    "# Scale to mean = 0, sd = 1\n",
    "std_scaler = preprocessing.StandardScaler()\n",
    "# X_train_std = std_scaler.fit_transform(X_train)\n",
    "# X_dev_std = std_scaler.transform(X_dev)\n",
    "# X_test_std = std_scaler.transform(X_test)\n",
    "    # Only the continuous features\n",
    "X_train_std = np.copy(X_train)\n",
    "X_dev_std = np.copy(X_dev)\n",
    "X_test_std = np.copy(X_test)\n",
    "X_train_std[:, :10] = std_scaler.fit_transform(X_train[:, :10])\n",
    "X_dev_std[:, :10] = std_scaler.transform(X_dev[:, :10])\n",
    "X_test_std[:, :10] = std_scaler.transform(X_test[:, :10])"
   ]
  },
  {
   "cell_type": "markdown",
   "metadata": {},
   "source": [
    "----"
   ]
  },
  {
   "cell_type": "markdown",
   "metadata": {},
   "source": [
    "<a id='MODELS'></a>"
   ]
  },
  {
   "cell_type": "markdown",
   "metadata": {},
   "source": [
    "#MODELS\n",
    "\n",
    "<a href='#top'>[Back to top]</a>\n",
    "\n",
    "\n",
    "We tried all the models that we studied in the course (with the exception of Neural Networks). Here are the results of the best-performing ones:"
   ]
  },
  {
   "cell_type": "markdown",
   "metadata": {},
   "source": [
    "<a id='k-Nearest_Neighbors'></a>"
   ]
  },
  {
   "cell_type": "markdown",
   "metadata": {},
   "source": [
    "##k-Nearest Neighbors (kNN)\n",
    "\n",
    "<a href='#top'>[Back to top]</a>\n"
   ]
  },
  {
   "cell_type": "markdown",
   "metadata": {},
   "source": [
    "Because of the different nature of the 54 features (some continuous, some binary and mutually exclusive), we started creating **our own distance metric** that accounts for these differences to give similar weight to all the features. This new metric combined Euclidean and a variant of Hamming distance, and used the re-scaled version of the continuous variables, as explained in the code below. \n",
    "\n",
    "But the results were slightly worse than using the standard Euclidean distance, and after several tests, we discovered that the 44 binary features do not add too much information about the Cover Type. Using that standard Euclidean distance with unscaled data, with all features or just the 10 continuous ones, yields the best results.\n",
    "\n",
    "The code below just shows some of the results we found:"
   ]
  },
  {
   "cell_type": "code",
   "execution_count": 28,
   "metadata": {
    "collapsed": false
   },
   "outputs": [
    {
     "name": "stdout",
     "output_type": "stream",
     "text": [
      "0.837962962963\n",
      "0.853835978836\n",
      "0.853835978836\n",
      "0.853835978836\n",
      "\n"
     ]
    }
   ],
   "source": [
    "# Create a mixed distance metric that accounts for the different characteristic of the features\n",
    "    # to give a similar weight to all of them\n",
    "# First 10 features are continuous. The square of differences is applied to the values scaled \n",
    "    # to [0,1] (maximum value of the sum = 10)\n",
    "# Last 44 features correspond to 2 features (wilderness area and soil type), with 4 and 40\n",
    "    # categories each. A variant of Hamming distance is applied to them, so the maximum value\n",
    "    # is 2 if two observations differ in both features\n",
    "# The total distance is the square of the sum of those 12 values, divided by the square of 12,\n",
    "    # so the maximum distance between any two observations will be 1\n",
    "# The ranges of the first 10 features may vary in the dev and test datasets, so the distances\n",
    "    # might be slightly greater than 1\n",
    "def mixed_distance(x, y):\n",
    "    return np.sqrt(np.sum((x[:10]-y[:10])**2) + 0.5*np.sum(x[10:14]!=y[10:14]) +\n",
    "                          0.5*np.sum(x[14:54]!=y[14:54])) / np.sqrt(12)\n",
    "\n",
    "k = 1 # We also tried many other values of k\n",
    "# Try our own metric\n",
    "kNN_mixed = KNeighborsClassifier(n_neighbors=k, metric=mixed_distance)\n",
    "kNN_mixed.fit(X_train_minmax, y_train)\n",
    "print kNN_mixed.score(X_dev_minmax, y_dev)\n",
    "# Try euclidean distance with unscaled data\n",
    "kNN = KNeighborsClassifier(n_neighbors=k, metric='euclidean')\n",
    "kNN.fit(X_train, y_train)\n",
    "print kNN.score(X_dev, y_dev)\n",
    "# Try euclidean distance with scaled data\n",
    "kNN = KNeighborsClassifier(n_neighbors=k, metric='euclidean')\n",
    "kNN.fit(X_train, y_train)\n",
    "print kNN.score(X_dev, y_dev)\n",
    "# Try euclidean distance with unscaled data and only continuous features\n",
    "kNN.fit(X_train[:,:10], y_train)\n",
    "print kNN.score(X_dev[:,:10], y_dev)\n",
    "print"
   ]
  },
  {
   "cell_type": "markdown",
   "metadata": {},
   "source": [
    "**The metric used in Kaggle to score results is the accuracy. Hence, that will be the one that we'll use along this whole project.**"
   ]
  },
  {
   "cell_type": "code",
   "execution_count": 29,
   "metadata": {
    "collapsed": false
   },
   "outputs": [
    {
     "name": "stdout",
     "output_type": "stream",
     "text": [
      "The optimal value for k is 1\n"
     ]
    },
    {
     "data": {
      "text/plain": [
       "(0, 11)"
      ]
     },
     "execution_count": 29,
     "metadata": {},
     "output_type": "execute_result"
    },
    {
     "data": {
      "image/png": "[encoded data removed]",
      "text/plain": [
       "<matplotlib.figure.Figure at 0x3b6a70f0>"
      ]
     },
     "metadata": {},
     "output_type": "display_data"
    }
   ],
   "source": [
    "# Estimate by cross-validation the optimal number of neighbors (k)\n",
    "# Try between 1 and the number of features (54)\n",
    "k = {'n_neighbors': np.concatenate([np.arange(1, X_train.shape[1]+1)]).tolist()}\n",
    "# The optimal value is low, so let's narrow the search from 1 to 11\n",
    "k = {'n_neighbors': np.concatenate([np.arange(1, 10+1)]).tolist()}\n",
    "best_param_kNN = GridSearchCV(KNeighborsClassifier(), k, scoring='accuracy')\n",
    "best_param_kNN.fit(X_train, y_train)\n",
    "optimal_k = best_param_kNN.best_params_['n_neighbors']\n",
    "print 'The optimal value for k is {0}'.format(optimal_k)\n",
    "\n",
    "# Plot results\n",
    "f1_vector = np.array([best_param_kNN.grid_scores_[x][1] for x in \n",
    "                      range(len(k['n_neighbors']))])\n",
    "plt.figure(figsize=(8, 8))\n",
    "plt.plot(k['n_neighbors'], f1_vector, marker='x')\n",
    "plt.axvline(x=optimal_k, linewidth=1, linestyle='--', color='red')\n",
    "plt.axhline(y=best_param_kNN.best_score_, linewidth=1, linestyle='--', \n",
    "            color='red')\n",
    "plt.xlabel(\"k (Nearest Neighbors)\")\n",
    "plt.ylabel(\"F1 score\")\n",
    "plt.title('F1 score per value of k')\n",
    "plt.ylim([0, (np.ceil(best_param_kNN.best_score_*20)+1)/20])\n",
    "plt.xlim([0, len(k['n_neighbors'])+1])"
   ]
  },
  {
   "cell_type": "markdown",
   "metadata": {},
   "source": [
    "How well does our first model perform on the development data?"
   ]
  },
  {
   "cell_type": "code",
   "execution_count": 30,
   "metadata": {
    "collapsed": false
   },
   "outputs": [
    {
     "name": "stdout",
     "output_type": "stream",
     "text": [
      "Accuracy using non-scaled data:      0.8538\n",
      "Accuracy using standardized data:    0.8201\n",
      "Accuracy using scaled-to-range data: 0.8380\n"
     ]
    }
   ],
   "source": [
    "kNN = KNeighborsClassifier(n_neighbors=optimal_k)\n",
    "\n",
    "kNN.fit(X_train, y_train)\n",
    "print 'Accuracy using non-scaled data:      {0:.4f}'.\\\n",
    "    format(kNN.score(X_dev, y_dev))\n",
    "\n",
    "kNN.fit(X_train_std, y_train)\n",
    "print 'Accuracy using standardized data:    {0:.4f}'.\\\n",
    "    format(kNN.score(X_dev_std, y_dev))\n",
    "\n",
    "kNN.fit(X_train_minmax, y_train)\n",
    "print 'Accuracy using scaled-to-range data: {0:.4f}'.\\\n",
    "    format(kNN.score(X_dev_minmax, y_dev))"
   ]
  },
  {
   "cell_type": "markdown",
   "metadata": {},
   "source": [
    "The model performs better with non-scaled data (it could be argued that we searched for the optimal value for k using those data, but we did the same -out of this notebook- with standardized and scaled-to-range data), and the results were still better using unscaled data."
   ]
  },
  {
   "cell_type": "markdown",
   "metadata": {},
   "source": [
    "Which are the cover types most commonly misclassified?"
   ]
  },
  {
   "cell_type": "code",
   "execution_count": 31,
   "metadata": {
    "collapsed": false
   },
   "outputs": [
    {
     "name": "stdout",
     "output_type": "stream",
     "text": [
      "             precision    recall  f1-score   support\n",
      "\n",
      "          1       0.80      0.67      0.73       220\n",
      "          2       0.72      0.66      0.69       208\n",
      "          3       0.85      0.81      0.83       220\n",
      "          4       0.94      0.96      0.95       212\n",
      "          5       0.89      0.96      0.93       227\n",
      "          6       0.83      0.91      0.87       206\n",
      "          7       0.90      0.99      0.95       219\n",
      "\n",
      "avg / total       0.85      0.85      0.85      1512\n",
      "\n",
      "|    |    1|    2|    3|    4|    5|    6|    7|\n",
      "------------------------------------------------\n",
      "|   1| 67.3| 18.6|  0.0|  0.0|  4.1|  0.5|  9.5|\n",
      "|   2| 16.3| 66.3|  5.8|  0.0|  6.7|  3.8|  1.0|\n",
      "|   3|  0.0|  1.8| 80.9|  5.5|  0.5| 11.4|  0.0|\n",
      "|   4|  0.0|  0.0|  1.9| 96.2|  0.0|  1.9|  0.0|\n",
      "|   5|  0.0|  3.1|  0.0|  0.0| 96.5|  0.4|  0.0|\n",
      "|   6|  0.0|  0.5|  7.3|  0.5|  1.0| 90.8|  0.0|\n",
      "|   7|  0.9|  0.0|  0.0|  0.0|  0.0|  0.0| 99.1|\n",
      "\n"
     ]
    }
   ],
   "source": [
    "kNN = KNeighborsClassifier(n_neighbors=optimal_k)\n",
    "kNN.fit(X_train[:, :10], y_train)\n",
    "predicted_y_dev = kNN.predict(X_dev[:, :10])\n",
    "print classification_report(y_dev, predicted_y_dev)\n",
    "# Confusion Matrix\n",
    "CM = metrics.confusion_matrix(y_dev, predicted_y_dev)\n",
    "CM_percentage = np.around(100*CM.astype('f2') / CM.sum(axis=1)[:, np.newaxis], 1)\n",
    "\n",
    "# plt.figure(figsize=(12, 12))\n",
    "# ax = plt.gca()\n",
    "# ax.axes.get_xaxis().set_visible(False)\n",
    "# ax.axes.get_yaxis().set_visible(False)\n",
    "# ax.axis('off')\n",
    "# table2 = plt.table(cellText=CM_percentage,rowLabels=np.arange(1,8),\n",
    "#                            colLabels=np.arange(1,8),loc='center')\n",
    "# plt.show()\n",
    "\n",
    "# Print a table with the confusion matrix (percentages of row, so each row correspond to the\n",
    "    # true cover type, and the diagonal values correspond to the Recall / 100\n",
    "cover_type = [c.rjust(5) for c in map(str, np.unique(y_dev))]\n",
    "print \"|    |{}|{}|{}|{}|{}|{}|{}|\".format(*cover_type)\n",
    "print '------------------------------------------------'\n",
    "table = []\n",
    "for i,j in enumerate(np.unique(y_dev)):\n",
    "    table.append([j, CM_percentage[i,0], CM_percentage[i,1], CM_percentage[i,2],\n",
    "                  CM_percentage[i,3], CM_percentage[i,4], CM_percentage[i,5],\n",
    "                  CM_percentage[i,6]])\n",
    "for i in table:\n",
    "    print \"|{:4}|{:5.1f}|{:5.1f}|{:5.1f}|{:5.1f}|{:5.1f}|{:5.1f}|{:5.1f}|\".format(*i)\n",
    "print"
   ]
  },
  {
   "cell_type": "markdown",
   "metadata": {},
   "source": [
    "The cover types most typically misclassified are 1 and 2 (confused with each other). Unfortunately (as we'll see later, in the <a href='#Ensemble'>CUSTOM ENSEMBLE</a>  section), these seem to be the most common types in the test set, accounting for almost 80% of cases.\n",
    "\n",
    "Now we keep record of the predictions in the dev and test sets (we'll do the same for all the models), to ensemble their results at the end."
   ]
  },
  {
   "cell_type": "markdown",
   "metadata": {},
   "source": [
    "Keep record of the predictions in the dev set, as well as the accuracy, to ensemble all the models in a later step:"
   ]
  },
  {
   "cell_type": "code",
   "execution_count": 32,
   "metadata": {
    "collapsed": false
   },
   "outputs": [
    {
     "name": "stdout",
     "output_type": "stream",
     "text": [
      "0.853835978836\n",
      "[ 0.67272727  0.66346154  0.80909091  0.96226415  0.96475771  0.90776699\n",
      "  0.99086758]\n"
     ]
    }
   ],
   "source": [
    "kNN = KNeighborsClassifier(n_neighbors=1)\n",
    "kNN.fit(X_train, y_train)\n",
    "pred_y_dev_kNN = kNN.predict(X_dev)\n",
    "acc_kNN = metrics.accuracy_score(y_dev, pred_y_dev_kNN)\n",
    "print acc_kNN\n",
    "\n",
    "CM = metrics.confusion_matrix(y_dev, pred_y_dev_kNN)\n",
    "acc = CM.astype('f8') / CM.sum(axis=1)[:, np.newaxis]\n",
    "acc_kNN_perType = np.diag(acc)\n",
    "print acc_kNN_perType"
   ]
  },
  {
   "cell_type": "markdown",
   "metadata": {},
   "source": [
    "Predict the test set:"
   ]
  },
  {
   "cell_type": "code",
   "execution_count": 33,
   "metadata": {
    "collapsed": true
   },
   "outputs": [],
   "source": [
    "pred_y_test_kNN = kNN.predict(X_test)"
   ]
  },
  {
   "cell_type": "markdown",
   "metadata": {},
   "source": [
    "<a id='Decision_Trees'></a>"
   ]
  },
  {
   "cell_type": "markdown",
   "metadata": {},
   "source": [
    "##Decision Trees\n",
    "\n",
    "<a href='#top'>[Back to top]</a>\n",
    "\n",
    "Decision Trees (DTs) are a non-parametric supervised learning method used for classification and regression. They are able to handle both numeric and categorical data, something that suits our purpose since we have both of them in our data.\n"
   ]
  },
  {
   "cell_type": "code",
   "execution_count": 34,
   "metadata": {
    "collapsed": false
   },
   "outputs": [
    {
     "name": "stdout",
     "output_type": "stream",
     "text": [
      "The optimal criterion is entropy\n",
      "The optimal maximum number of features is 54\n",
      "The optimal maximum depth of the tree is 20\n",
      "             precision    recall  f1-score   support\n",
      "\n",
      "          1       0.73      0.67      0.70       220\n",
      "          2       0.66      0.62      0.64       208\n",
      "          3       0.80      0.75      0.77       220\n",
      "          4       0.95      0.94      0.95       212\n",
      "          5       0.85      0.92      0.88       227\n",
      "          6       0.78      0.86      0.82       206\n",
      "          7       0.92      0.95      0.94       219\n",
      "\n",
      "avg / total       0.81      0.82      0.81      1512\n",
      "\n",
      "0.816798941799\n"
     ]
    }
   ],
   "source": [
    "param_grid = {'criterion': ['gini', 'entropy'], 'max_features': [2, 5, 10, 20, 54], \n",
    "              'max_depth': [5, 10, 20, 25, 30, 40]}\n",
    "best_param_DT = GridSearchCV(DecisionTreeClassifier(), param_grid, scoring='accuracy')\n",
    "best_param_DT.fit(X_train, y_train)\n",
    "optimal_criterion_DT = best_param_DT.best_params_['criterion']\n",
    "print 'The optimal criterion is {0}'.format(optimal_criterion_DT)\n",
    "optimal_max_features_DT = best_param_DT.best_params_['max_features']\n",
    "print 'The optimal maximum number of features is {0}'.format(optimal_max_features_DT)\n",
    "optimal_max_depth_DT = best_param_DT.best_params_['max_depth']\n",
    "print 'The optimal maximum depth of the tree is {0}'.format(optimal_max_depth_DT)\n",
    "\n",
    "DT = DecisionTreeClassifier(criterion=optimal_criterion_DT, \n",
    "                            max_features=optimal_max_features_DT, \n",
    "                            max_depth=optimal_max_depth_DT, random_state=0)\n",
    "DT.fit(X_train, y_train)\n",
    "\n",
    "y_dev_dec = DT.predict(X_dev)\n",
    "print metrics.classification_report(y_dev, y_dev_dec)\n",
    "print metrics.accuracy_score(y_dev, y_dev_dec)"
   ]
  },
  {
   "cell_type": "markdown",
   "metadata": {},
   "source": [
    "Keep record of the predictions in the dev set, as well as the accuracy, to ensemble all the models in a later step:"
   ]
  },
  {
   "cell_type": "code",
   "execution_count": 35,
   "metadata": {
    "collapsed": false
   },
   "outputs": [
    {
     "name": "stdout",
     "output_type": "stream",
     "text": [
      "0.818121693122\n",
      "[ 0.67727273  0.62019231  0.75909091  0.94339623  0.9030837   0.85436893\n",
      "  0.96347032]\n"
     ]
    }
   ],
   "source": [
    "DT = DecisionTreeClassifier(criterion='entropy', max_features=54, \n",
    "                            max_depth=25, random_state=0)\n",
    "DT.fit(X_train, y_train)\n",
    "pred_y_dev_DT = DT.predict(X_dev)\n",
    "acc_DT = metrics.accuracy_score(y_dev, pred_y_dev_DT)\n",
    "print acc_DT\n",
    "\n",
    "CM = metrics.confusion_matrix(y_dev, pred_y_dev_DT)\n",
    "acc = CM.astype('f8') / CM.sum(axis=1)[:, np.newaxis]\n",
    "acc_DT_perType = np.diag(acc)\n",
    "print acc_DT_perType"
   ]
  },
  {
   "cell_type": "markdown",
   "metadata": {},
   "source": [
    "Slightly worse than Nearest Neighbors, but accuracy still above 80%."
   ]
  },
  {
   "cell_type": "markdown",
   "metadata": {},
   "source": [
    "Predict the test set:"
   ]
  },
  {
   "cell_type": "code",
   "execution_count": 36,
   "metadata": {
    "collapsed": false
   },
   "outputs": [],
   "source": [
    "pred_y_test_DT = DT.predict(X_test)"
   ]
  },
  {
   "cell_type": "markdown",
   "metadata": {},
   "source": [
    "<a id='Random_Forests'></a>"
   ]
  },
  {
   "cell_type": "markdown",
   "metadata": {},
   "source": [
    "##Random Forests\n",
    "<a href='#top'>[Back to top]</a>\n",
    "\n",
    "Given how closely decision trees can fit themselves to their training data, they have a tendency to overfit. One way of avoiding this is a technique called random forests, in which we build multiple decision trees and let them vote on how to classify inputs:\n",
    "\n",
    "**Random forests** are ensembles of decision trees. *Multiple decision trees* are trained and aggregated to form a model that is more performant than any of the individual trees. This general idea is the purpose of ensemble learning."
   ]
  },
  {
   "cell_type": "code",
   "execution_count": 37,
   "metadata": {
    "collapsed": false,
    "scrolled": true
   },
   "outputs": [
    {
     "name": "stdout",
     "output_type": "stream",
     "text": [
      "The optimal criterion is gini\n",
      "The optimal number of trees in the forest is 150\n",
      "The optimal minimum number of samples required to split an internal node is 2\n",
      "The optimal maximum number of features is 20\n",
      "The optimal maximum depth of the tree is 20\n",
      "             precision    recall  f1-score   support\n",
      "\n",
      "          1       0.84      0.78      0.81       220\n",
      "          2       0.84      0.73      0.78       208\n",
      "          3       0.88      0.84      0.86       220\n",
      "          4       0.98      0.98      0.98       212\n",
      "          5       0.89      0.96      0.92       227\n",
      "          6       0.84      0.95      0.89       206\n",
      "          7       0.94      0.98      0.96       219\n",
      "\n",
      "avg / total       0.89      0.89      0.89      1512\n",
      "\n",
      "0.888888888889\n"
     ]
    }
   ],
   "source": [
    "# Train and predict with the random forest classifier\n",
    "param_grid = {'criterion': ['gini', 'entropy'], 'n_estimators': [10, 50, 150], \n",
    "              'min_samples_split': [2, 4], 'max_features': [2, 5, 10, 20, 54], \n",
    "              'max_depth': [10, 20, 25, 30, 40]}\n",
    "best_param_RF = GridSearchCV(ensemble.RandomForestClassifier(), param_grid, scoring='accuracy')\n",
    "best_param_RF.fit(X_train, y_train)\n",
    "optimal_criterion_RF = best_param_RF.best_params_['criterion']\n",
    "print 'The optimal criterion is {0}'.format(optimal_criterion_RF)\n",
    "optimal_n_estimators_RF = best_param_RF.best_params_['n_estimators']\n",
    "print 'The optimal number of trees in the forest is {0}'.format(optimal_n_estimators_RF)\n",
    "optimal_min_samples_split_RF = best_param_RF.best_params_['min_samples_split']\n",
    "print 'The optimal minimum number of samples required to split an internal node is {0}'.\\\n",
    "    format(optimal_min_samples_split_RF)\n",
    "optimal_max_features_RF = best_param_RF.best_params_['max_features']\n",
    "print 'The optimal maximum number of features is {0}'.format(optimal_max_features_RF)\n",
    "optimal_max_depth_RF = best_param_DT.best_params_['max_depth']\n",
    "print 'The optimal maximum depth of the tree is {0}'.format(optimal_max_depth_RF)\n",
    "\n",
    "RF = ensemble.RandomForestClassifier(criterion=optimal_criterion_RF, \n",
    "                                     n_estimators=optimal_n_estimators_RF, \n",
    "                                     min_samples_split=optimal_min_samples_split_RF, \n",
    "                                     max_features=optimal_max_features_RF, \n",
    "                                     max_depth=optimal_max_depth_RF, random_state=0)\n",
    "RF.fit(X_train,y_train)\n",
    "y_dev_RF = RF.predict(X_dev)\n",
    "print metrics.classification_report(y_dev, y_dev_RF)\n",
    "print metrics.accuracy_score(y_dev, y_dev_RF)"
   ]
  },
  {
   "cell_type": "markdown",
   "metadata": {},
   "source": [
    "Keep record of the predictions in the dev set, as well as the accuracy, to ensemble all the models in a later step:"
   ]
  },
  {
   "cell_type": "code",
   "execution_count": 38,
   "metadata": {
    "collapsed": false
   },
   "outputs": [
    {
     "name": "stdout",
     "output_type": "stream",
     "text": [
      "0.887566137566\n",
      "[ 0.80454545  0.72596154  0.83181818  0.98113208  0.95594714  0.9368932\n",
      "  0.97260274]\n"
     ]
    }
   ],
   "source": [
    "RF = ensemble.RandomForestClassifier(criterion='entropy', n_estimators=150, \n",
    "                                     min_samples_split=2, max_features=20, \n",
    "                                     max_depth=25, random_state=0)\n",
    "RF.fit(X_train,y_train)\n",
    "pred_y_dev_RF = RF.predict(X_dev)\n",
    "acc_RF = metrics.accuracy_score(y_dev, pred_y_dev_RF)\n",
    "print acc_RF\n",
    "\n",
    "CM = metrics.confusion_matrix(y_dev, pred_y_dev_RF)\n",
    "acc = CM.astype('f8') / CM.sum(axis=1)[:, np.newaxis]\n",
    "acc_RF_perType = np.diag(acc)\n",
    "print acc_RF_perType"
   ]
  },
  {
   "cell_type": "markdown",
   "metadata": {},
   "source": [
    "Best result so far, close to 90%."
   ]
  },
  {
   "cell_type": "markdown",
   "metadata": {},
   "source": [
    "Predict the test set:"
   ]
  },
  {
   "cell_type": "code",
   "execution_count": 39,
   "metadata": {
    "collapsed": true
   },
   "outputs": [],
   "source": [
    "pred_y_test_RF = RF.predict(X_test)"
   ]
  },
  {
   "cell_type": "markdown",
   "metadata": {},
   "source": [
    "<a id='ExtraTrees'></a>"
   ]
  },
  {
   "cell_type": "markdown",
   "metadata": {},
   "source": [
    "##Extra Trees Classifier\n",
    "\n",
    "<a href='#top'>[Back to top]</a>\n",
    "\n",
    "Extra-trees differ from classic decision trees in the way they are built. When looking for the best split to separate the samples of a node into two groups, random splits are drawn for each of the max_features randomly selected features and the best split among those is chosen."
   ]
  },
  {
   "cell_type": "code",
   "execution_count": 40,
   "metadata": {
    "collapsed": false
   },
   "outputs": [
    {
     "name": "stdout",
     "output_type": "stream",
     "text": [
      "The optimal criterion is gini\n",
      "The optimal number of trees in the forest is 150\n",
      "The optimal minimum number of samples required to split an internal node is 2\n",
      "The optimal maximum number of features is 54\n",
      "0.899470899471\n",
      "             precision    recall  f1-score   support\n",
      "\n",
      "          1       0.86      0.77      0.81       220\n",
      "          2       0.82      0.77      0.79       208\n",
      "          3       0.90      0.87      0.89       220\n",
      "          4       0.97      0.98      0.98       212\n",
      "          5       0.92      0.96      0.94       227\n",
      "          6       0.87      0.95      0.91       206\n",
      "          7       0.94      0.99      0.96       219\n",
      "\n",
      "avg / total       0.90      0.90      0.90      1512\n",
      "\n"
     ]
    }
   ],
   "source": [
    "param_grid = {'criterion': ['gini', 'entropy'], \n",
    "              'n_estimators': [10, 50, 150], \n",
    "              'min_samples_split': [2, 4], \n",
    "              'max_features': [2, 5, 10, 20, 54]}\n",
    "best_param_ET = GridSearchCV(ensemble.ExtraTreesClassifier(), param_grid, scoring='accuracy')\n",
    "best_param_ET.fit(X_train, y_train)\n",
    "optimal_criterion_ET = best_param_ET.best_params_['criterion']\n",
    "print 'The optimal criterion is {0}'.format(optimal_criterion_ET)\n",
    "optimal_n_estimators_ET = best_param_ET.best_params_['n_estimators']\n",
    "print 'The optimal number of trees in the forest is {0}'.format(optimal_n_estimators_ET)\n",
    "optimal_min_samples_split_ET = best_param_RF.best_params_['min_samples_split']\n",
    "print 'The optimal minimum number of samples required to split an internal node is {0}'.\\\n",
    "    format(optimal_min_samples_split_ET)\n",
    "optimal_max_features_ET = best_param_ET.best_params_['max_features']\n",
    "print 'The optimal maximum number of features is {0}'.format(optimal_max_features_ET)\n",
    "\n",
    "ET = ensemble.ExtraTreesClassifier(criterion=optimal_criterion_ET, \n",
    "                                   n_estimators=optimal_n_estimators_ET, \n",
    "                                   min_samples_split=optimal_min_samples_split_ET, \n",
    "                                   max_features=optimal_max_features_ET, random_state=0)\n",
    "\n",
    "ET.fit(X_train, y_train )       \n",
    "y_dev_et = ET.predict(X_dev)\n",
    "print metrics.accuracy_score(y_dev, y_dev_et)\n",
    "print metrics.classification_report(y_dev, y_dev_et)"
   ]
  },
  {
   "cell_type": "markdown",
   "metadata": {},
   "source": [
    "Keep record of the predictions in the dev set, as well as the accuracy, to ensemble all the models in a later step:"
   ]
  },
  {
   "cell_type": "code",
   "execution_count": 41,
   "metadata": {
    "collapsed": false
   },
   "outputs": [
    {
     "name": "stdout",
     "output_type": "stream",
     "text": [
      "0.893518518519\n",
      "[ 0.77727273  0.75961538  0.85        0.98113208  0.96035242  0.9368932\n",
      "  0.98630137]\n"
     ]
    }
   ],
   "source": [
    "ET = ensemble.ExtraTreesClassifier(criterion='entropy', n_estimators=150, \n",
    "                                   min_samples_split=2, max_features=54, \n",
    "                                   random_state=0)\n",
    "ET.fit(X_train,y_train)\n",
    "pred_y_dev_ET = ET.predict(X_dev)\n",
    "acc_ET = metrics.accuracy_score(y_dev, pred_y_dev_ET)\n",
    "print acc_ET\n",
    "\n",
    "CM = metrics.confusion_matrix(y_dev, pred_y_dev_ET)\n",
    "acc = CM.astype('f8') / CM.sum(axis=1)[:, np.newaxis]\n",
    "acc_ET_perType = np.diag(acc)\n",
    "print acc_ET_perType"
   ]
  },
  {
   "cell_type": "markdown",
   "metadata": {},
   "source": [
    "Best result so far, close to 90%."
   ]
  },
  {
   "cell_type": "markdown",
   "metadata": {},
   "source": [
    "Predict the test set:"
   ]
  },
  {
   "cell_type": "code",
   "execution_count": 42,
   "metadata": {
    "collapsed": true
   },
   "outputs": [],
   "source": [
    "pred_y_test_ET = ET.predict(X_test)"
   ]
  },
  {
   "cell_type": "markdown",
   "metadata": {},
   "source": [
    "<a id='AdaBoost'></a>"
   ]
  },
  {
   "cell_type": "markdown",
   "metadata": {},
   "source": [
    "##AdaBoost\n",
    "\n",
    "<a href='#top'>[Back to top]</a>\n",
    "\n",
    "\"An AdaBoost classifier is a meta-estimator that begins by fitting a classifier on the original dataset and then fits additional copies of the classifier on the same dataset but where the weights of incorrectly classified instances are adjusted such that subsequent classifiers focus more on difficult cases.\" (http://scikit-learn.org/stable/modules/generated/sklearn.ensemble.AdaBoostClassifier.html)\n",
    "\n",
    "We used Decision Trees, Random Forests, and **Extra Trees** as base estimators. As expected, the latter yielded the best results, and that's the one that we used."
   ]
  },
  {
   "cell_type": "code",
   "execution_count": 43,
   "metadata": {
    "collapsed": false
   },
   "outputs": [
    {
     "name": "stdout",
     "output_type": "stream",
     "text": [
      "0.898148148148\n",
      "[ 0.76363636  0.78846154  0.86818182  0.97641509  0.96475771  0.9368932\n",
      "  0.98630137]\n"
     ]
    }
   ],
   "source": [
    "AB = AdaBoostClassifier(base_estimator=ET, n_estimators=500)\n",
    "AB.fit(X_train, y_train)\n",
    "pred_y_dev_AB = AB.predict(X_dev)\n",
    "acc_AB = metrics.accuracy_score(y_dev, pred_y_dev_AB)\n",
    "print acc_AB\n",
    "\n",
    "CM = metrics.confusion_matrix(y_dev, pred_y_dev_AB)\n",
    "acc = CM.astype('f8') / CM.sum(axis=1)[:, np.newaxis]\n",
    "acc_AB_perType = np.diag(acc)\n",
    "print acc_AB_perType"
   ]
  },
  {
   "cell_type": "markdown",
   "metadata": {},
   "source": [
    "Exceeded the 90% threshold!"
   ]
  },
  {
   "cell_type": "markdown",
   "metadata": {},
   "source": [
    "Predict the test set:"
   ]
  },
  {
   "cell_type": "code",
   "execution_count": 44,
   "metadata": {
    "collapsed": true
   },
   "outputs": [],
   "source": [
    "pred_y_test_AB = AB.predict(X_test)"
   ]
  },
  {
   "cell_type": "markdown",
   "metadata": {},
   "source": [
    "<a id='SVM'></a>"
   ]
  },
  {
   "cell_type": "markdown",
   "metadata": {},
   "source": [
    "##Support Vector Machines\n",
    "\n",
    "<a href='#top'>[Back to top]</a>\n"
   ]
  },
  {
   "cell_type": "code",
   "execution_count": 45,
   "metadata": {
    "collapsed": false
   },
   "outputs": [
    {
     "name": "stdout",
     "output_type": "stream",
     "text": [
      "{'kernel': 'rbf', 'C': 1000, 'gamma': 0.5}\n",
      "0.846560846561\n",
      "             precision    recall  f1-score   support\n",
      "\n",
      "          1       0.78      0.72      0.75       220\n",
      "          2       0.75      0.72      0.73       208\n",
      "          3       0.80      0.77      0.78       220\n",
      "          4       0.94      0.97      0.95       212\n",
      "          5       0.89      0.93      0.91       227\n",
      "          6       0.81      0.85      0.83       206\n",
      "          7       0.93      0.97      0.95       219\n",
      "\n",
      "avg / total       0.84      0.85      0.84      1512\n",
      "\n"
     ]
    }
   ],
   "source": [
    "param_grid = {'C': [1, 10, 100, 1000], \n",
    "              'gamma': [1, 0.5, 0.1, 0.01], \n",
    "              'kernel': ['rbf']}\n",
    "    # 'kernel': ['linear', 'poly', 'rbf', 'sigmoid']\n",
    "best_svm = GridSearchCV(SVC(), param_grid, scoring='accuracy')\n",
    "best_svm.fit(X_train_minmax, y_train)\n",
    "best_svm.score(X_dev_minmax, y_dev)\n",
    "print best_svm.best_params_\n",
    "\n",
    "svm = SVC(kernel = best_svm.best_params_['kernel'], C=best_svm.best_params_['C'],\n",
    "          gamma=best_svm.best_params_['gamma'])\n",
    "svm.fit(X_train_minmax, y_train)\n",
    "svm_preds = svm.predict(X_dev_minmax)\n",
    "print metrics.accuracy_score(y_dev, svm_preds)\n",
    "print classification_report(y_dev, svm_preds)"
   ]
  },
  {
   "cell_type": "markdown",
   "metadata": {},
   "source": [
    "Keep record of the predictions in the dev set, as well as the accuracy, to ensemble all the models in a later step:"
   ]
  },
  {
   "cell_type": "code",
   "execution_count": 46,
   "metadata": {
    "collapsed": false
   },
   "outputs": [
    {
     "name": "stdout",
     "output_type": "stream",
     "text": [
      "0.846560846561\n",
      "[ 0.72272727  0.71634615  0.76818182  0.97169811  0.92511013  0.84951456\n",
      "  0.96803653]\n"
     ]
    }
   ],
   "source": [
    "SVM = SVC(kernel='rbf', C=1000, gamma=0.5)\n",
    "SVM.fit(X_train_minmax, y_train)\n",
    "pred_y_dev_SVM = SVM.predict(X_dev_minmax)\n",
    "acc_SVM = metrics.accuracy_score(y_dev, pred_y_dev_SVM)\n",
    "print acc_SVM\n",
    "\n",
    "CM = metrics.confusion_matrix(y_dev, pred_y_dev_SVM)\n",
    "acc = CM.astype('f8') / CM.sum(axis=1)[:, np.newaxis]\n",
    "acc_SVM_perType = np.diag(acc)\n",
    "print acc_SVM_perType"
   ]
  },
  {
   "cell_type": "markdown",
   "metadata": {},
   "source": [
    "Predict the test set:"
   ]
  },
  {
   "cell_type": "code",
   "execution_count": 47,
   "metadata": {
    "collapsed": true
   },
   "outputs": [],
   "source": [
    "pred_y_test_SVM = SVM.predict(X_test_minmax)"
   ]
  },
  {
   "cell_type": "markdown",
   "metadata": {},
   "source": [
    "<a id='GMM'></a>"
   ]
  },
  {
   "cell_type": "markdown",
   "metadata": {},
   "source": [
    "##Gaussian Mixture Model\n",
    "\n",
    "<a href='#top'>[Back to top]</a>\n"
   ]
  },
  {
   "cell_type": "code",
   "execution_count": 48,
   "metadata": {
    "collapsed": false
   },
   "outputs": [
    {
     "name": "stdout",
     "output_type": "stream",
     "text": [
      "0.816137566138 40 full\n"
     ]
    }
   ],
   "source": [
    "# Use cross-validation to find the (sub)optimal parameters\n",
    "best_covar_type = ''\n",
    "best_numcomp = 0\n",
    "dev_accuracy = 0\n",
    "for cov in ['spherical', 'diag', 'tied', 'full']:\n",
    "    for comp in range(40,400,40):\n",
    "        logprob = np.empty(len(np.unique(y_train))*X_dev.shape[0]).\\\n",
    "            reshape(len(np.unique(y_train)), X_dev.shape[0])\n",
    "        for i,label in enumerate(np.unique(y_train)):\n",
    "            gmm = GMM(n_components=comp, covariance_type=cov)\n",
    "            gmm.fit(X_train[y_train==label])\n",
    "            logprob[i, :] = gmm.score(X_dev)\n",
    "        preds = logprob.argmax(axis=0) + 1\n",
    "        acc = metrics.accuracy_score(y_dev, preds)\n",
    "        if acc > dev_accuracy:\n",
    "            dev_accuracy = acc\n",
    "            best_numcomp = comp\n",
    "            best_covar_type =  cov\n",
    "print dev_accuracy, best_numcomp, best_covar_type"
   ]
  },
  {
   "cell_type": "code",
   "execution_count": 49,
   "metadata": {
    "collapsed": false
   },
   "outputs": [
    {
     "name": "stdout",
     "output_type": "stream",
     "text": [
      "             precision    recall  f1-score   support\n",
      "\n",
      "          1       0.72      0.62      0.67       220\n",
      "          2       0.63      0.75      0.68       208\n",
      "          3       0.73      0.78      0.75       220\n",
      "          4       0.97      0.91      0.94       212\n",
      "          5       0.94      0.88      0.91       227\n",
      "          6       0.77      0.79      0.78       206\n",
      "          7       0.94      0.93      0.94       219\n",
      "\n",
      "avg / total       0.82      0.81      0.81      1512\n",
      "\n"
     ]
    }
   ],
   "source": [
    "logprob = np.empty(len(np.unique(y_train))*X_dev.shape[0]).\\\n",
    "            reshape(len(np.unique(y_train)), X_dev.shape[0])\n",
    "for i,label in enumerate(np.unique(y_train)):\n",
    "    gmm = GMM(n_components=best_numcomp, covariance_type=best_covar_type)\n",
    "    gmm.fit(X_train[y_train==label])\n",
    "    logprob[i, :] = gmm.score(X_dev)\n",
    "preds = logprob.argmax(axis=0) + 1\n",
    "print metrics.classification_report(y_dev, preds)"
   ]
  },
  {
   "cell_type": "markdown",
   "metadata": {},
   "source": [
    "Keep record of the predictions in the dev set, as well as the accuracy, to ensemble all the models in a later step:"
   ]
  },
  {
   "cell_type": "code",
   "execution_count": 50,
   "metadata": {
    "collapsed": false
   },
   "outputs": [
    {
     "name": "stdout",
     "output_type": "stream",
     "text": [
      "0.660714285714\n",
      "[ 0.75909091  0.70192308  0.71818182  0.66981132  0.43171806  0.69902913\n",
      "  0.65753425]\n"
     ]
    }
   ],
   "source": [
    "logprob = np.empty(len(np.unique(y_train))*X_dev.shape[0]).\\\n",
    "            reshape(len(np.unique(y_train)), X_dev.shape[0])\n",
    "for i,label in enumerate(np.unique(y_train)):\n",
    "    gmm = GMM(n_components=320, covariance_type='tied')\n",
    "    gmm.fit(X_train[y_train==label])\n",
    "    logprob[i, :] = gmm.score(X_dev)\n",
    "pred_y_dev_GMM = logprob.argmax(axis=0) + 1\n",
    "acc_GMM = metrics.accuracy_score(y_dev, pred_y_dev_GMM)\n",
    "print acc_GMM\n",
    "\n",
    "CM = metrics.confusion_matrix(y_dev, pred_y_dev_GMM)\n",
    "acc = CM.astype('f8') / CM.sum(axis=1)[:, np.newaxis]\n",
    "acc_GMM_perType = np.diag(acc)\n",
    "print acc_GMM_perType"
   ]
  },
  {
   "cell_type": "markdown",
   "metadata": {},
   "source": [
    "Predict the test set:"
   ]
  },
  {
   "cell_type": "code",
   "execution_count": 51,
   "metadata": {
    "collapsed": false
   },
   "outputs": [
    {
     "ename": "MemoryError",
     "evalue": "",
     "output_type": "error",
     "traceback": [
      "\u001b[1;31m---------------------------------------------------------------------------\u001b[0m",
      "\u001b[1;31mMemoryError\u001b[0m                               Traceback (most recent call last)",
      "\u001b[1;32m<ipython-input-51-710d687cf1a8>\u001b[0m in \u001b[0;36m<module>\u001b[1;34m()\u001b[0m\n\u001b[0;32m      3\u001b[0m     \u001b[0mgmm\u001b[0m \u001b[1;33m=\u001b[0m \u001b[0mGMM\u001b[0m\u001b[1;33m(\u001b[0m\u001b[0mn_components\u001b[0m\u001b[1;33m=\u001b[0m\u001b[1;36m320\u001b[0m\u001b[1;33m,\u001b[0m \u001b[0mcovariance_type\u001b[0m\u001b[1;33m=\u001b[0m\u001b[1;34m'tied'\u001b[0m\u001b[1;33m)\u001b[0m\u001b[1;33m\u001b[0m\u001b[0m\n\u001b[0;32m      4\u001b[0m     \u001b[0mgmm\u001b[0m\u001b[1;33m.\u001b[0m\u001b[0mfit\u001b[0m\u001b[1;33m(\u001b[0m\u001b[0mX_train\u001b[0m\u001b[1;33m[\u001b[0m\u001b[0my_train\u001b[0m\u001b[1;33m==\u001b[0m\u001b[0mlabel\u001b[0m\u001b[1;33m]\u001b[0m\u001b[1;33m)\u001b[0m\u001b[1;33m\u001b[0m\u001b[0m\n\u001b[1;32m----> 5\u001b[1;33m     \u001b[0mlogprob\u001b[0m\u001b[1;33m[\u001b[0m\u001b[0mi\u001b[0m\u001b[1;33m,\u001b[0m \u001b[1;33m:\u001b[0m\u001b[1;33m]\u001b[0m \u001b[1;33m=\u001b[0m \u001b[0mgmm\u001b[0m\u001b[1;33m.\u001b[0m\u001b[0mscore\u001b[0m\u001b[1;33m(\u001b[0m\u001b[0mX_test\u001b[0m\u001b[1;33m)\u001b[0m\u001b[1;33m\u001b[0m\u001b[0m\n\u001b[0m\u001b[0;32m      6\u001b[0m \u001b[0mpred_y_test_GMM\u001b[0m \u001b[1;33m=\u001b[0m \u001b[0mlogprob\u001b[0m\u001b[1;33m.\u001b[0m\u001b[0margmax\u001b[0m\u001b[1;33m(\u001b[0m\u001b[0maxis\u001b[0m\u001b[1;33m=\u001b[0m\u001b[1;36m0\u001b[0m\u001b[1;33m)\u001b[0m \u001b[1;33m+\u001b[0m \u001b[1;36m1\u001b[0m\u001b[1;33m\u001b[0m\u001b[0m\n",
      "\u001b[1;32mC:\\Users\\vamsi.sakhamuri\\AppData\\Local\\Continuum\\Anaconda\\lib\\site-packages\\sklearn\\mixture\\gmm.pyc\u001b[0m in \u001b[0;36mscore\u001b[1;34m(self, X)\u001b[0m\n\u001b[0;32m    331\u001b[0m             \u001b[0mLog\u001b[0m \u001b[0mprobabilities\u001b[0m \u001b[0mof\u001b[0m \u001b[0meach\u001b[0m \u001b[0mdata\u001b[0m \u001b[0mpoint\u001b[0m \u001b[1;32min\u001b[0m \u001b[0mX\u001b[0m\u001b[1;33m\u001b[0m\u001b[0m\n\u001b[0;32m    332\u001b[0m         \"\"\"\n\u001b[1;32m--> 333\u001b[1;33m         \u001b[0mlogprob\u001b[0m\u001b[1;33m,\u001b[0m \u001b[0m_\u001b[0m \u001b[1;33m=\u001b[0m \u001b[0mself\u001b[0m\u001b[1;33m.\u001b[0m\u001b[0mscore_samples\u001b[0m\u001b[1;33m(\u001b[0m\u001b[0mX\u001b[0m\u001b[1;33m)\u001b[0m\u001b[1;33m\u001b[0m\u001b[0m\n\u001b[0m\u001b[0;32m    334\u001b[0m         \u001b[1;32mreturn\u001b[0m \u001b[0mlogprob\u001b[0m\u001b[1;33m\u001b[0m\u001b[0m\n\u001b[0;32m    335\u001b[0m \u001b[1;33m\u001b[0m\u001b[0m\n",
      "\u001b[1;32mC:\\Users\\vamsi.sakhamuri\\AppData\\Local\\Continuum\\Anaconda\\lib\\site-packages\\sklearn\\mixture\\gmm.pyc\u001b[0m in \u001b[0;36mscore_samples\u001b[1;34m(self, X)\u001b[0m\n\u001b[0;32m    311\u001b[0m \u001b[1;33m\u001b[0m\u001b[0m\n\u001b[0;32m    312\u001b[0m         lpr = (log_multivariate_normal_density(X, self.means_, self.covars_,\n\u001b[1;32m--> 313\u001b[1;33m                                                self.covariance_type)\n\u001b[0m\u001b[0;32m    314\u001b[0m                + np.log(self.weights_))\n\u001b[0;32m    315\u001b[0m         \u001b[0mlogprob\u001b[0m \u001b[1;33m=\u001b[0m \u001b[0mlogsumexp\u001b[0m\u001b[1;33m(\u001b[0m\u001b[0mlpr\u001b[0m\u001b[1;33m,\u001b[0m \u001b[0maxis\u001b[0m\u001b[1;33m=\u001b[0m\u001b[1;36m1\u001b[0m\u001b[1;33m)\u001b[0m\u001b[1;33m\u001b[0m\u001b[0m\n",
      "\u001b[1;32mC:\\Users\\vamsi.sakhamuri\\AppData\\Local\\Continuum\\Anaconda\\lib\\site-packages\\sklearn\\mixture\\gmm.pyc\u001b[0m in \u001b[0;36mlog_multivariate_normal_density\u001b[1;34m(X, means, covars, covariance_type)\u001b[0m\n\u001b[0;32m     57\u001b[0m         'full': _log_multivariate_normal_density_full}\n\u001b[0;32m     58\u001b[0m     return log_multivariate_normal_density_dict[covariance_type](\n\u001b[1;32m---> 59\u001b[1;33m         X, means, covars)\n\u001b[0m\u001b[0;32m     60\u001b[0m \u001b[1;33m\u001b[0m\u001b[0m\n\u001b[0;32m     61\u001b[0m \u001b[1;33m\u001b[0m\u001b[0m\n",
      "\u001b[1;32mC:\\Users\\vamsi.sakhamuri\\AppData\\Local\\Continuum\\Anaconda\\lib\\site-packages\\sklearn\\mixture\\gmm.pyc\u001b[0m in \u001b[0;36m_log_multivariate_normal_density_tied\u001b[1;34m(X, means, covars)\u001b[0m\n\u001b[0;32m    584\u001b[0m                   \u001b[1;33m+\u001b[0m \u001b[0mnp\u001b[0m\u001b[1;33m.\u001b[0m\u001b[0msum\u001b[0m\u001b[1;33m(\u001b[0m\u001b[0mX\u001b[0m \u001b[1;33m*\u001b[0m \u001b[0mnp\u001b[0m\u001b[1;33m.\u001b[0m\u001b[0mdot\u001b[0m\u001b[1;33m(\u001b[0m\u001b[0mX\u001b[0m\u001b[1;33m,\u001b[0m \u001b[0micv\u001b[0m\u001b[1;33m)\u001b[0m\u001b[1;33m,\u001b[0m \u001b[1;36m1\u001b[0m\u001b[1;33m)\u001b[0m\u001b[1;33m[\u001b[0m\u001b[1;33m:\u001b[0m\u001b[1;33m,\u001b[0m \u001b[0mnp\u001b[0m\u001b[1;33m.\u001b[0m\u001b[0mnewaxis\u001b[0m\u001b[1;33m]\u001b[0m\u001b[1;33m\u001b[0m\u001b[0m\n\u001b[0;32m    585\u001b[0m                   \u001b[1;33m-\u001b[0m \u001b[1;36m2\u001b[0m \u001b[1;33m*\u001b[0m \u001b[0mnp\u001b[0m\u001b[1;33m.\u001b[0m\u001b[0mdot\u001b[0m\u001b[1;33m(\u001b[0m\u001b[0mnp\u001b[0m\u001b[1;33m.\u001b[0m\u001b[0mdot\u001b[0m\u001b[1;33m(\u001b[0m\u001b[0mX\u001b[0m\u001b[1;33m,\u001b[0m \u001b[0micv\u001b[0m\u001b[1;33m)\u001b[0m\u001b[1;33m,\u001b[0m \u001b[0mmeans\u001b[0m\u001b[1;33m.\u001b[0m\u001b[0mT\u001b[0m\u001b[1;33m)\u001b[0m\u001b[1;33m\u001b[0m\u001b[0m\n\u001b[1;32m--> 586\u001b[1;33m                   + np.sum(means * np.dot(means, icv), 1))\n\u001b[0m\u001b[0;32m    587\u001b[0m     \u001b[1;32mreturn\u001b[0m \u001b[0mlpr\u001b[0m\u001b[1;33m\u001b[0m\u001b[0m\n\u001b[0;32m    588\u001b[0m \u001b[1;33m\u001b[0m\u001b[0m\n",
      "\u001b[1;31mMemoryError\u001b[0m: "
     ]
    }
   ],
   "source": [
    "logprob = np.empty(len(np.unique(y_train))*X_test.shape[0]).\\\n",
    "        reshape(len(np.unique(y_train)), X_test.shape[0])\n",
    "for i,label in enumerate(np.unique(y_train)):\n",
    "    gmm = GMM(n_components=320, covariance_type='tied')\n",
    "    gmm.fit(X_train[y_train==label])\n",
    "    logprob[i, :] = gmm.score(X_test)\n",
    "pred_y_test_GMM = logprob.argmax(axis=0) + 1"
   ]
  },
  {
   "cell_type": "markdown",
   "metadata": {},
   "source": [
    "----"
   ]
  },
  {
   "cell_type": "markdown",
   "metadata": {},
   "source": [
    "<a id='Features'></a>"
   ]
  },
  {
   "cell_type": "markdown",
   "metadata": {},
   "source": [
    "#ENGINEERING NEW FEATURES\n",
    "\n",
    "<a href='#top'>[Back to top]</a>\n",
    "\n",
    "We engineered new features using the best model (**AdaBoost with Extra Trees**) as baseline.\n",
    "\n",
    "Some observations:\n",
    "\n",
    "1. Elevation alongwith all the distance metrics appear to be the most important features.\n",
    "\n",
    "2. Two problems are evident from looking at the confusion matrix:\n",
    "\n",
    "    a) The model gets confused with Forest Cover 1 and Forest Cover 2.\n",
    "    \n",
    "    b) The model also incorrectly classifies Forest Cover 3 as Forest Cover 6 in quite a few instances.\n",
    "\n",
    "Our feature engineering effort will attempt to reduce this misclassification rate."
   ]
  },
  {
   "cell_type": "markdown",
   "metadata": {},
   "source": [
    "Creating a general function to plot N important features"
   ]
  },
  {
   "cell_type": "code",
   "execution_count": null,
   "metadata": {
    "collapsed": true
   },
   "outputs": [],
   "source": [
    "fet_ind=[]\n",
    "name_features = column_names_test.split(\",\")\n",
    "\n",
    "def plot_important_features(rf,nFeatures,features):\n",
    "    global fet_ind\n",
    "    plt.figure(figsize=(8, 4))\n",
    "    fet_ind = np.argsort(rf.feature_importances_)[::-1]\n",
    "    fet_imp = rf.feature_importances_[fet_ind][:nFeatures]\n",
    "    feature_names =features[1:]\n",
    "    feature_names_array=np.array(feature_names)[fet_ind]\n",
    "    feature_names=feature_names_array[:nFeatures].tolist()\n",
    "    \n",
    "    #print \"%d most important features are\\n\" % nFeatures\n",
    "    #print fet_ind[:nFeatures]\n",
    "    #print feature_names\n",
    "    \n",
    "    #plot the bar chart for most important features \n",
    "    plt.bar(np.arange(len(fet_imp)), fet_imp, width=1, lw=2)\n",
    "    plt.grid(False)\n",
    "    xt = np.arange(len(fet_imp)+0.5)\n",
    "    ax = plt.subplot(111)\n",
    "    ax.set_xticks(xt)\n",
    "    xlabels=feature_names_array.tolist()\n",
    "    ax.set_xticklabels(xlabels, rotation=90)\n",
    "    plt.xlim(0, len(fet_imp))\n",
    "    plt.show()"
   ]
  },
  {
   "cell_type": "markdown",
   "metadata": {},
   "source": [
    "Creating a general function to print a confusion matrix:"
   ]
  },
  {
   "cell_type": "code",
   "execution_count": null,
   "metadata": {
    "collapsed": true
   },
   "outputs": [],
   "source": [
    "def print_confusion_matrix(y_dev,y_pred):\n",
    "    CM = metrics.confusion_matrix(y_dev, y_pred)\n",
    "    CM_percentage = np.around(100*CM.astype('f2') / CM.sum(axis=1)[:, np.newaxis], 1)\n",
    "\n",
    "    cover_type = [c.rjust(5) for c in map(str, np.unique(y_dev))]\n",
    "    print \"|    |{}|{}|{}|{}|{}|{}|{}|\".format(*cover_type)\n",
    "    print '------------------------------------------------'\n",
    "    table = []\n",
    "    for i,j in enumerate(np.unique(y_dev)):\n",
    "        table.append([j, CM_percentage[i,0], CM_percentage[i,1], CM_percentage[i,2],\n",
    "                      CM_percentage[i,3], CM_percentage[i,4], CM_percentage[i,5],\n",
    "                      CM_percentage[i,6]])\n",
    "    for i in table:\n",
    "        print \"|{:4}|{:5.1f}|{:5.1f}|{:5.1f}|{:5.1f}|{:5.1f}|{:5.1f}|{:5.1f}|\".format(*i)\n",
    "    print"
   ]
  },
  {
   "cell_type": "code",
   "execution_count": null,
   "metadata": {
    "collapsed": false
   },
   "outputs": [],
   "source": [
    "name_features = column_names_test.split(\",\")\n",
    "ET = ensemble.ExtraTreesClassifier(criterion='entropy', n_estimators=150, \n",
    "                                   min_samples_split=2, random_state=0)\n",
    "abc = AdaBoostClassifier(base_estimator=ET, n_estimators=500)\n",
    "abc.fit(X_train, y_train)\n",
    "y_pred = abc.predict(X_dev)\n",
    "print 'Accuracy (adaboost with extra trees):', abc.score(X_dev,y_dev)\n",
    "#print classification_report(y_dev,y_pred)\n",
    "\n",
    "plot_important_features(abc,15,name_features)\n",
    "\n",
    "print \"\\nConfusion Matrix\\n\"\n",
    "print_confusion_matrix(y_dev,y_pred)"
   ]
  },
  {
   "cell_type": "markdown",
   "metadata": {},
   "source": [
    "Creating a generic function to create box-plot for the continuous features separated by the forest cover labels:"
   ]
  },
  {
   "cell_type": "code",
   "execution_count": null,
   "metadata": {
    "collapsed": true
   },
   "outputs": [],
   "source": [
    "def box_plot(name_features,feature_num,X_train):\n",
    "    \n",
    "    feature_name = name_features[feature_num+1]\n",
    "    plt.boxplot([X_train[:,feature_num][y_train==1],X_train[:,feature_num][y_train==2],\n",
    "                 X_train[:,feature_num][y_train==3],X_train[:,feature_num][y_train==4],\n",
    "                 X_train[:,feature_num][y_train==5],X_train[:,feature_num][y_train==6],\n",
    "                 X_train[:,feature_num][y_train==7]])\n",
    "\n",
    "    plt.title(feature_name)"
   ]
  },
  {
   "cell_type": "markdown",
   "metadata": {},
   "source": [
    "Creating boxplots for each of the 10 continuous features separated by the forest cover labels.\n",
    "Some Observations:\n",
    "\n",
    "1. Elevation truly is the most important feature in our dataset because it adequately separates all of the forest cover labels.\n",
    "\n",
    "2. Forest Cover 1 and Forest Cover 2 are very similar in terms of the other continuous features (except for Elevation), and is most likely the cause for the higher misclassification rate.\n",
    "\n",
    "3. Forest Cover 3 and Forest Cover 6 are quite similar in terms of elevation (the most important feature) and probably explains why Forest Cover 3 gets incorrectly predicted as Forest Cover 6 at a relatively high rate."
   ]
  },
  {
   "cell_type": "code",
   "execution_count": null,
   "metadata": {
    "collapsed": false
   },
   "outputs": [],
   "source": [
    "name_features = column_names_test.split(\",\")\n",
    "\n",
    "plt.figure(figsize=(15,15))\n",
    "\n",
    "for i in range(10):    \n",
    "    plt.subplot(4,4,i+1)\n",
    "    box_plot(name_features,i,X_train)\n",
    "\n",
    "plt.show()"
   ]
  },
  {
   "cell_type": "markdown",
   "metadata": {},
   "source": [
    "Creating a scatter matrix for the top 7 features computed using baseline Adaboost:"
   ]
  },
  {
   "cell_type": "code",
   "execution_count": null,
   "metadata": {
    "collapsed": false
   },
   "outputs": [],
   "source": [
    "name_features = column_names_test.split(\",\")\n",
    "\n",
    "y_train_reshape = np.reshape(y_train,(y_train.shape[0],1))\n",
    "\n",
    "idx0 = name_features.index('Elevation')\n",
    "idx1 = name_features.index('Horizontal_Distance_To_Roadways')\n",
    "idx2 = name_features.index('Horizontal_Distance_To_Fire_Points')\n",
    "idx3 = name_features.index('Horizontal_Distance_To_Hydrology')\n",
    "idx4 = name_features.index('Aspect')\n",
    "idx5 = name_features.index('Hillshade_9am')\n",
    "idx6 = name_features.index('Vertical_Distance_To_Hydrology')\n",
    "\n",
    "df_pre = np.concatenate((X_train,y_train_reshape),axis=1)\n",
    "df = pd.DataFrame(df_pre[:,(idx0-1,idx1-1,idx2-1,idx3-1,idx4-1,idx5-1,idx6-1)],\n",
    "                  columns=[\"Elevation\",\"Horizontal_Distance_To_Roadways\",\n",
    "                                        \"Horizontal_Distance_To_Fire_Points\",\n",
    "                                        \"Horizontal_Distance_To_Hydrology\",\n",
    "                                        \"Aspect\",\n",
    "                                        \"Hillshade_9am\",\n",
    "                                        \"Vertical_Distance_To_Hydrology\"])\n",
    "\n",
    "pd.tools.plotting.scatter_matrix(df, alpha=0.4,figsize=(25,25))\n",
    "plt.show()"
   ]
  },
  {
   "cell_type": "markdown",
   "metadata": {},
   "source": [
    "Also, creating a scatter plot for the different combinations of the hillshade indexes.\n",
    "\n",
    "Observations:\n",
    "\n",
    "1. There appears to be a negative correlation between hillshade @3pm vs hillshade@9am\n",
    "\n",
    "2. There appears to be a positive correlation between hillshade @3pm vs hillshade@noon"
   ]
  },
  {
   "cell_type": "code",
   "execution_count": null,
   "metadata": {
    "collapsed": false
   },
   "outputs": [],
   "source": [
    "plt.figure(figsize=(16,10))\n",
    "#Scatter Plot of hillshade index\n",
    "plt.subplot(2,3,1)\n",
    "plt.scatter(X_train[:,6],X_train[:,7],c=y_train,cmap=plt.cm.jet)\n",
    "plt.title(\"Hillshade @Noon vs Hillshade @9AM\")\n",
    "\n",
    "plt.subplot(2,3,2)\n",
    "plt.scatter(X_train[:,6],X_train[:,8],c=y_train,cmap=plt.cm.jet)\n",
    "plt.title(\"Hillshade @3PM vs Hillshade @9AM\")\n",
    "\n",
    "plt.subplot(2,3,3)\n",
    "plt.scatter(X_train[:,7],X_train[:,8],c=y_train,cmap=plt.cm.jet)\n",
    "plt.title(\"Hillshade @3PM vs Hillshade @Noon\")\n",
    "\n",
    "plt.show()"
   ]
  },
  {
   "cell_type": "markdown",
   "metadata": {},
   "source": [
    "In the scatter matrix, two relationships jumped out at us.\n",
    "\n",
    "1. There appears to be a positive correlation between elevation and horizontal distance to hydrology\n",
    "2. There appears to be a positive correlation between vertical and horizontal distance to hydrology\n",
    "3. Vertical distance to hydrology and elevation also appear to be related"
   ]
  },
  {
   "cell_type": "code",
   "execution_count": null,
   "metadata": {
    "collapsed": false
   },
   "outputs": [],
   "source": [
    "#Plotting vertical distance to hydrology VS elevation with color coded forest cover labels\n",
    "\n",
    "plt.figure(figsize=(10,10))\n",
    "plt.scatter(X_train[:,0],X_train[:,4],c=y_train,cmap=plt.cm.jet)\n",
    "plt.xlabel(name_features[1])\n",
    "plt.ylabel(name_features[5])\n",
    "plt.show()"
   ]
  },
  {
   "cell_type": "code",
   "execution_count": null,
   "metadata": {
    "collapsed": false
   },
   "outputs": [],
   "source": [
    "#Plotting vertical distance to hydrology VS horizontal distance to hydrology with color coded \n",
    "    # forest cover labels\n",
    "\n",
    "plt.figure(figsize=(10,10))\n",
    "plt.scatter(X_train[:,3],X_train[:,4],c=y_train,cmap=plt.cm.jet)\n",
    "plt.xlabel(name_features[4])\n",
    "plt.ylabel(name_features[5])\n",
    "plt.show()"
   ]
  },
  {
   "cell_type": "code",
   "execution_count": null,
   "metadata": {
    "collapsed": false
   },
   "outputs": [],
   "source": [
    "#Plotting horizontal distance to hydrology VS elevation with color coded forest cover labels\n",
    "\n",
    "plt.figure(figsize=(10,10))\n",
    "plt.scatter(X_train[:,0],X_train[:,3],c=y_train,cmap=plt.cm.jet)\n",
    "plt.xlabel(name_features[1])\n",
    "plt.ylabel(name_features[4])\n",
    "plt.show()"
   ]
  },
  {
   "cell_type": "markdown",
   "metadata": {},
   "source": [
    "###Engineering new features\n",
    "\n",
    "1. Compute the euclidean distance based on horizontal and vertical distance to hydrology\n",
    "2. Adding horizontal distance to Fire-Points and RoadWays\n",
    "3. Subtracting horizontal distance to Fire-Points and RoadWays\n",
    "4. Adding Elevation, Horizontal distance to hydrology and vertical distance to hydrology\n",
    "5. Subtracting Elevation and 0.2*Horizontal Distance to Roadways\n",
    "6. Subtracting Elevation and Vertical Distance to Hydrology"
   ]
  },
  {
   "cell_type": "code",
   "execution_count": null,
   "metadata": {
    "collapsed": true
   },
   "outputs": [],
   "source": [
    "name_features = column_names_test.split(\",\")\n",
    "\n",
    "dist_EucH = metrics.euclidean_distances(X_train[:,(3,4)], np.array([0,0]))\n",
    "dist_FR_add = np.add(X_train[:,5] ,X_train[:,9]).reshape(X_train.shape[0],1)\n",
    "dist_FR_sub = np.subtract(X_train[:,5] ,X_train[:,9]).reshape(X_train.shape[0],1)\n",
    "dist_EHV = (X_train[:,0] + X_train[:,3]+X_train[:,4]).reshape(X_train.shape[0],1)\n",
    "E_minus_R = (X_train[:,0] - 0.2*X_train[:,5]).reshape(X_train.shape[0],1)\n",
    "E_minus_V = (X_train[:,0] - X_train[:,4]).reshape(X_train.shape[0],1)\n",
    "\n",
    "X_train_new = np.append(X_train,dist_EucH,axis=1)\n",
    "X_train_new = np.append(X_train_new,dist_FR_add,axis=1)\n",
    "X_train_new = np.append(X_train_new,dist_FR_sub,axis=1)\n",
    "X_train_new = np.append(X_train_new,dist_EHV,axis=1)\n",
    "X_train_new = np.append(X_train_new,E_minus_R,axis=1)\n",
    "X_train_new = np.append(X_train_new,E_minus_V,axis=1)\n",
    "\n",
    "dist_EucH = metrics.euclidean_distances(X_dev[:,(3,4)], np.array([0,0]))\n",
    "dist_FR_add = np.add(X_dev[:,5] ,X_dev[:,9]).reshape(X_dev.shape[0],1)\n",
    "dist_FR_sub = np.subtract(X_dev[:,5] ,X_dev[:,9]).reshape(X_dev.shape[0],1)\n",
    "dist_EHV = (X_dev[:,0] + X_dev[:,3]+X_dev[:,4]).reshape(X_dev.shape[0],1)\n",
    "E_minus_R = (X_dev[:,0] - 0.2*X_dev[:,5]).reshape(X_dev.shape[0],1)\n",
    "E_minus_V = (X_dev[:,0] - X_dev[:,4]).reshape(X_dev.shape[0],1)\n",
    "\n",
    "X_dev_new = np.append(X_dev,dist_EucH,axis=1)\n",
    "X_dev_new = np.append(X_dev_new,dist_FR_add,axis=1)\n",
    "X_dev_new = np.append(X_dev_new,dist_FR_sub,axis=1)\n",
    "X_dev_new = np.append(X_dev_new,dist_EHV,axis=1)\n",
    "X_dev_new = np.append(X_dev_new,E_minus_R,axis=1)\n",
    "X_dev_new = np.append(X_dev_new,E_minus_V,axis=1)\n",
    "\n",
    "name_features.append(\"dist_Euch\")\n",
    "name_features.append(\"dist_FR_add\")\n",
    "name_features.append(\"dist_FR_sub\")\n",
    "name_features.append(\"dist_EHV\")\n",
    "name_features.append(\"E_minus_R\")\n",
    "name_features.append(\"E_minus_V\")"
   ]
  },
  {
   "cell_type": "markdown",
   "metadata": {},
   "source": [
    "Plotting Vertical Distance To Hydrology vs the newly engineering feature(Elevation-Vertical Distance to Hydrology.\n",
    "We can see that the new feature separates the 7 forest covers quite well."
   ]
  },
  {
   "cell_type": "code",
   "execution_count": null,
   "metadata": {
    "collapsed": false
   },
   "outputs": [],
   "source": [
    "y_idx = name_features.index('Vertical_Distance_To_Hydrology')-1\n",
    "x_idx = name_features.index('E_minus_V')-1\n",
    "\n",
    "plt.figure(figsize=(10,10))\n",
    "plt.scatter(X_train_new[:,x_idx],X_train_new[:,y_idx],c=y_train,cmap=plt.cm.jet)\n",
    "plt.xlabel(name_features[x_idx+1])\n",
    "plt.ylabel(name_features[y_idx+1])\n",
    "plt.show()"
   ]
  },
  {
   "cell_type": "code",
   "execution_count": null,
   "metadata": {
    "collapsed": true
   },
   "outputs": [],
   "source": [
    "dist_EucH = metrics.euclidean_distances(X_test[:,(3,4)], np.array([0,0]))\n",
    "dist_FR_add = np.add(X_test[:,5] ,X_test[:,9]).reshape(X_test.shape[0],1)\n",
    "dist_FR_sub = np.subtract(X_test[:,5] ,X_test[:,9]).reshape(X_test.shape[0],1)\n",
    "dist_EHV = (X_test[:,0] + X_test[:,3]+X_test[:,4]).reshape(X_test.shape[0],1)\n",
    "E_minus_R = (X_test[:,0] - 0.2*X_test[:,5]).reshape(X_test.shape[0],1)\n",
    "E_minus_V = (X_test[:,0] - X_test[:,4]).reshape(X_test.shape[0],1)\n",
    "\n",
    "X_test_new = np.append(X_test,dist_EucH,axis=1)\n",
    "X_test_new = np.append(X_test_new,dist_FR_add,axis=1)\n",
    "X_test_new = np.append(X_test_new,dist_FR_sub,axis=1)\n",
    "X_test_new = np.append(X_test_new,dist_EHV,axis=1)\n",
    "X_test_new = np.append(X_test_new,E_minus_R,axis=1)\n",
    "X_test_new = np.append(X_test_new,E_minus_V,axis=1)"
   ]
  },
  {
   "cell_type": "markdown",
   "metadata": {},
   "source": [
    "Training Adaboost on the newly engineered features:"
   ]
  },
  {
   "cell_type": "code",
   "execution_count": null,
   "metadata": {
    "collapsed": false
   },
   "outputs": [],
   "source": [
    "ET = ensemble.ExtraTreesClassifier(criterion='entropy', n_estimators=150, \n",
    "                                   min_samples_split=2, random_state=0)\n",
    "abc = AdaBoostClassifier(base_estimator=ET, n_estimators=500)\n",
    "abc.fit(X_train_new, y_train)\n",
    "y_pred = abc.predict(X_dev_new)\n",
    "print 'Accuracy (adaboost with extra trees + new features):', abc.score(X_dev_new,y_dev)\n",
    "\n",
    "plot_important_features(abc,15,name_features)\n",
    "\n",
    "print_confusion_matrix(y_dev,y_pred)"
   ]
  },
  {
   "cell_type": "markdown",
   "metadata": {},
   "source": [
    "Keep record of the predictions in the dev set, as well as the accuracy, to ensemble all the models in a later step:"
   ]
  },
  {
   "cell_type": "code",
   "execution_count": null,
   "metadata": {
    "collapsed": false
   },
   "outputs": [],
   "source": [
    "ET = ensemble.ExtraTreesClassifier(criterion='entropy', n_estimators=150, \n",
    "                                   min_samples_split=2, random_state=0)\n",
    "AB_eng = AdaBoostClassifier(base_estimator=ET, n_estimators=500)\n",
    "AB_eng.fit(X_train_new, y_train)\n",
    "pred_y_dev_AB_eng = AB_eng.predict(X_dev_new)\n",
    "acc_AB_eng = metrics.accuracy_score(y_dev, pred_y_dev_AB_eng)\n",
    "print acc_AB_eng\n",
    "\n",
    "CM = metrics.confusion_matrix(y_dev, pred_y_dev_AB_eng)\n",
    "acc = CM.astype('f8') / CM.sum(axis=1)[:, np.newaxis]\n",
    "acc_AB_eng_perType = np.diag(acc)\n",
    "print acc_AB_eng_perType"
   ]
  },
  {
   "cell_type": "markdown",
   "metadata": {},
   "source": [
    "Exceeded 91%!!"
   ]
  },
  {
   "cell_type": "markdown",
   "metadata": {},
   "source": [
    "Predict the test set:"
   ]
  },
  {
   "cell_type": "code",
   "execution_count": null,
   "metadata": {
    "collapsed": false
   },
   "outputs": [],
   "source": [
    "pred_y_test_AB_eng = AB_eng.predict(X_test_new)"
   ]
  },
  {
   "cell_type": "markdown",
   "metadata": {},
   "source": [
    "----"
   ]
  },
  {
   "cell_type": "markdown",
   "metadata": {},
   "source": [
    "<a id='Ensemble'></a>"
   ]
  },
  {
   "cell_type": "markdown",
   "metadata": {},
   "source": [
    "#CUSTOM ENSEMBLE\n",
    "\n",
    "<a href='#top'>[Back to top]</a>\n",
    "\n",
    "Of the 10 models that we built:\n",
    "\n",
    "- 3 (LR, SGD, and NB) have an accuracy lower than 70%\n",
    "- 3 (DT, RF, and AB) belong to the same *big family*, and hence give pretty similar results (though each one performs better than the previous)\n",
    "\n",
    "Hence we will focus only in the 4 models that have an accuracy greater than 80%, and belong to different families: kNN, AB, SVM, and GMM."
   ]
  },
  {
   "cell_type": "code",
   "execution_count": null,
   "metadata": {
    "collapsed": false
   },
   "outputs": [],
   "source": [
    "acc = np.hstack((acc_kNN, acc_AB, acc_SVM, acc_GMM))\n",
    "print acc"
   ]
  },
  {
   "cell_type": "markdown",
   "metadata": {},
   "source": [
    "All models perform similarly for each Cover Type, being less accurate at detecting Types 1 and 2, and more at detecting Type 7. (Ideally each model would be very good at detecting one or more Types, different for each model, so an ensemble would take *the best of each model*.)"
   ]
  },
  {
   "cell_type": "code",
   "execution_count": null,
   "metadata": {
    "collapsed": false
   },
   "outputs": [],
   "source": [
    "acc_perType = np.vstack((acc_kNN_perType, acc_AB_perType, acc_SVM_perType, \n",
    "                         acc_GMM_perType))\n",
    "print acc_perType\n",
    "acc_perType = np.vstack((acc_kNN_perType, acc_AB_perType, acc_SVM_perType, \n",
    "                         acc_GMM_perType))"
   ]
  },
  {
   "cell_type": "markdown",
   "metadata": {},
   "source": [
    "To ensemble the 8 models, we apply the following reasoning:\n",
    "\n",
    "Let's suppose there are only 2 categories, and the 7 models have a 80% accuracy at predicting one or the other. Let's also assume that the results of each model are uncorrelated to the others'.\n",
    "Then:\n",
    "\n",
    "$\\Pr (7 \\text{ successes}) = {7 \\choose 7} \\cdot 0.8^7 \\cdot 0.2^0 = 1 \\cdot 0.20972 \\cdot 1 = 0.20972$ \n",
    "\n",
    "$\\Pr (6 \\text{ successes}) = {7 \\choose 6} \\cdot 0.8^6 \\cdot 0.2^1 = 7 \\cdot 0.26214 \\cdot 0.2 = 0.36700$\n",
    "\n",
    "$\\Pr (5 \\text{ successes}) = {7 \\choose 5} \\cdot 0.8^5 \\cdot 0.2^2 = 21 \\cdot 0.32768 \\cdot 0.04 = 0.27525$\n",
    "\n",
    "$\\Pr (4 \\text{ successes}) = {7 \\choose 4} \\cdot 0.8^4 \\cdot 0.2^3 = 35 \\cdot 0.4096 \\cdot 0.008 = 0.11469$\n",
    "\n",
    "$\\Pr (3 \\text{ successes}) = {7 \\choose 3} \\cdot 0.8^3 \\cdot 0.2^4 = 35 \\cdot 0.512 \\cdot 0.0016 = 0.02867$\n",
    "\n",
    "$\\Pr (2 \\text{ successes}) = {7 \\choose 2} \\cdot 0.8^2 \\cdot 0.2^5 = 21 \\cdot 0.64 \\cdot 0.00032 = 0.00430$\n",
    "\n",
    "$\\Pr (1 \\text{ success}) = {7 \\choose 1} \\cdot 0.8^1 \\cdot 0.2^6 = 7 \\cdot 0.8 \\cdot 0.00006 = 0.00036$ \n",
    "\n",
    "$\\Pr (0 \\text{ successes}) = {7 \\choose 0} \\cdot 0.8^0 \\cdot 0.2^7 = 1 \\cdot 1 \\cdot 0.00001 = 0.00001$ \n",
    "\n",
    "And hence by combining the predictions of these 7 models we'd be able to increase our accuracy quite much:\n",
    "\n",
    "$\\Pr (\\text{4 or more successes}) = \\sum_{i=4}^7 \\Pr(i \\text{ successes}) = 0.96666$ \n",
    "\n",
    "In the event that 6 of the 7 models make exactly the same prediction than the first, then:\n",
    "\n",
    "$\\Pr (7 \\text{ successes}) = \\Pr (\\text{1st model is successful}) = 0.8$\n",
    "\n",
    "$\\Pr (6 \\text{ successes}) = \\text{ . . . } = \\Pr (1 \\text{ success}) = 0$\n",
    "\n",
    "$\\Pr (0 \\text{ successes}) = \\Pr (\\text{1st model is unsuccessful}) = 0.2$ \n",
    "\n",
    "So in this worst-case scenario our success rate still would be 80%.\n",
    "\n",
    "Our case is more complex (e.g., there are 7 possible categories, so the number of possible combinations is $7^8=5,764,801$, rather than $2^8=256$), but the idea is similar.\n",
    "\n",
    "To ensemble all results we might follow 3 different approaches:"
   ]
  },
  {
   "cell_type": "markdown",
   "metadata": {},
   "source": [
    "- **Select the most frequent category**. If the 4 models predict 1, 2, 2, 2 for one test example, we would select 2 (and in case of a tie, say 1, 1, 2, 2, the lowest number, 1, is chosen).\n"
   ]
  },
  {
   "cell_type": "code",
   "execution_count": null,
   "metadata": {
    "collapsed": false,
    "scrolled": true
   },
   "outputs": [],
   "source": [
    "# Predictions of the best 4 models for the first 10 examples in the dev set\n",
    "preds = np.column_stack((pred_y_dev_kNN, pred_y_dev_AB,pred_y_dev_SVM, \n",
    "                         pred_y_dev_GMM))\n",
    "print preds[:10,:], '\\n'\n",
    "\n",
    "counts = np.apply_along_axis(np.bincount, 1, preds, minlength=8)\n",
    "pred_y_dev_ensemble = np.argmax(counts, axis=1)\n",
    "print pred_y_dev_ensemble[:10], '\\n'\n",
    "acc_ensemble = metrics.accuracy_score(y_dev, pred_y_dev_ensemble)\n",
    "print acc_ensemble"
   ]
  },
  {
   "cell_type": "markdown",
   "metadata": {},
   "source": [
    "- **Select the most frequent category, weighting each model by its overall accuracy**. If the 4 models predict 1, 1, 2, 2 for one test example, the prediction would be based on the overall accuracies of the models that predicted 1 or 2. If those accuracies are 83% and 83%, and 80% and 84%, respectively, 1 would be chosen."
   ]
  },
  {
   "cell_type": "code",
   "execution_count": null,
   "metadata": {
    "collapsed": false
   },
   "outputs": [],
   "source": [
    "# Predictions of the best 4 models for the first 10 examples in the dev set\n",
    "print preds[:10,:], '\\n'\n",
    "\n",
    "counts = np.apply_along_axis(np.bincount, 1, preds, minlength=8, weights=acc)\n",
    "pred_y_dev_ensemble = np.argmax(counts, axis=1)\n",
    "print pred_y_dev_ensemble[:10], '\\n'\n",
    "acc_ensemble = metrics.accuracy_score(y_dev, pred_y_dev_ensemble)\n",
    "print acc_ensemble"
   ]
  },
  {
   "cell_type": "markdown",
   "metadata": {},
   "source": [
    "- **Select the most frequent category, weighting each model by its accuracy for the category they've predicted**. Following the previous example, suppose the 2 models that predicted 1 have an 83% overall accuracy, but their accuracy for 1 is only 80%; if the models that predicted 2 are more accurate predicting that category than 80%, 2 would be chosen."
   ]
  },
  {
   "cell_type": "code",
   "execution_count": null,
   "metadata": {
    "collapsed": false
   },
   "outputs": [],
   "source": [
    "# Predictions of the best 4 models for the first 10 examples in the dev set\n",
    "print preds[:10,:], '\\n'\n",
    "\n",
    "pred_y_dev_ensemble = np.empty(preds.shape[0], dtype='u4')\n",
    "for i in range(preds.shape[0]):\n",
    "    w = np.zeros(4)\n",
    "    for j in range(4):\n",
    "        w[j] = acc_perType[j,preds[i,j]-1]\n",
    "    counts = np.bincount(preds[i,:], minlength=8, weights=w)\n",
    "    pred_y_dev_ensemble[i] = np.argmax(counts)\n",
    "print pred_y_dev_ensemble[:10], '\\n'\n",
    "acc_ensemble = metrics.accuracy_score(y_dev, pred_y_dev_ensemble)\n",
    "print acc_ensemble"
   ]
  },
  {
   "cell_type": "markdown",
   "metadata": {},
   "source": [
    "**Only the 2nd approach yields better results than the best of the 4 models (AdaBoost), and not by too much. That is because the predictions of all models are highly correlated (they tend to fail in the same cases).**\n",
    "\n",
    "**So we used this approach (weighting each model by its overall accuracy).**"
   ]
  },
  {
   "cell_type": "code",
   "execution_count": null,
   "metadata": {
    "collapsed": false
   },
   "outputs": [],
   "source": [
    "# Predictions of the best 4 models for the first 10 examples in the test set\n",
    "preds_test = np.column_stack((pred_y_test_kNN, pred_y_test_AB, pred_y_test_SVM, \n",
    "                              pred_y_test_GMM))\n",
    "print preds_test[:10,:], '\\n'\n",
    "\n",
    "counts = np.apply_along_axis(np.bincount, 1, preds_test, minlength=8, weights=acc)\n",
    "pred_y_test_ensemble = np.argmax(counts, axis=1)\n",
    "print pred_y_test_ensemble[:10], '\\n'"
   ]
  },
  {
   "cell_type": "markdown",
   "metadata": {},
   "source": [
    "First 10 predictions are all `2`'s. Mere chance?"
   ]
  },
  {
   "cell_type": "code",
   "execution_count": null,
   "metadata": {
    "collapsed": false
   },
   "outputs": [],
   "source": [
    "for i in range(1,8):\n",
    "    print 'Number of {0}\\'s: {1}'.\\\n",
    "    format(i, pred_y_test_ensemble[pred_y_test_ensemble==i].shape[0])"
   ]
  },
  {
   "cell_type": "markdown",
   "metadata": {},
   "source": [
    "No, not mere chance. Lots of `2`'s and `1`'s as well. Both account for almost 80% of cases in our predictions:"
   ]
  },
  {
   "cell_type": "code",
   "execution_count": null,
   "metadata": {
    "collapsed": false
   },
   "outputs": [],
   "source": [
    "print 100.0* (pred_y_test_ensemble[pred_y_test_ensemble==1].shape[0] + \n",
    "              pred_y_test_ensemble[pred_y_test_ensemble==2].shape[0]) / \\\n",
    "    pred_y_test_ensemble.shape[0]"
   ]
  },
  {
   "cell_type": "markdown",
   "metadata": {},
   "source": [
    "Instead of including **AdaBoost** with the original features, we used it **with the new engineered features** from the previous section."
   ]
  },
  {
   "cell_type": "code",
   "execution_count": null,
   "metadata": {
    "collapsed": false
   },
   "outputs": [],
   "source": [
    "# Predictions of the best 4 models for the first 10 examples in the dev set\n",
    "acc = np.hstack((acc_kNN, acc_AB_eng, acc_SVM, acc_GMM))\n",
    "preds = np.column_stack((pred_y_dev_kNN, pred_y_dev_AB_eng, \n",
    "                         pred_y_dev_SVM, pred_y_dev_GMM))\n",
    "print preds[:10,:], '\\n'\n",
    "\n",
    "counts = np.apply_along_axis(np.bincount, 1, preds, minlength=8, weights=acc)\n",
    "pred_y_dev_ensemble = np.argmax(counts, axis=1)\n",
    "print pred_y_dev_ensemble[:10], '\\n'\n",
    "acc_ensemble = metrics.accuracy_score(y_dev, pred_y_dev_ensemble)\n",
    "print 'Accuracy of the custom ensemble of the best 4 models '\\\n",
    "    '(using eng. features in AdaBoost) for the dev set: {0:.4f}'.\\\n",
    "    format(acc_ensemble)"
   ]
  },
  {
   "cell_type": "code",
   "execution_count": null,
   "metadata": {
    "collapsed": false
   },
   "outputs": [],
   "source": [
    "# Predictions of the best 7 models for the first 10 examples in the test set\n",
    "preds_test = np.column_stack((pred_y_test_kNN, pred_y_test_AB_eng, \n",
    "                              pred_y_test_SVM, pred_y_test_GMM))\n",
    "counts = np.apply_along_axis(np.bincount, 1, preds_test, minlength=8, weights=acc)\n",
    "pred_y_test_ensemble = np.argmax(counts, axis=1)"
   ]
  },
  {
   "cell_type": "markdown",
   "metadata": {},
   "source": [
    "----"
   ]
  },
  {
   "cell_type": "markdown",
   "metadata": {},
   "source": [
    "<a id='RESULTS'></a>"
   ]
  },
  {
   "cell_type": "markdown",
   "metadata": {},
   "source": [
    "#Results\n",
    "\n",
    "<a href='#top'>[Back to top]</a>\n"
   ]
  },
  {
   "cell_type": "markdown",
   "metadata": {},
   "source": [
    "We used the predictions from the custom ensemble method, using the 8 models that yielded an accuracy above 80% in the dev set, and engineered features in the best one (AdaBoost with Extra Trees)."
   ]
  },
  {
   "cell_type": "code",
   "execution_count": null,
   "metadata": {
    "collapsed": true
   },
   "outputs": [],
   "source": [
    "predictions = pred_y_test_ensemble"
   ]
  },
  {
   "cell_type": "markdown",
   "metadata": {},
   "source": [
    "Those predictions need to be saved to a textfile, that has to be uploaded to kaggle (see https://www.kaggle.com/c/digit-recognizer/data for further information)."
   ]
  },
  {
   "cell_type": "code",
   "execution_count": null,
   "metadata": {
    "collapsed": false
   },
   "outputs": [],
   "source": [
    "test_lab_f = open(\"Forest/test_labeled.csv\", \"w\")\n",
    "test_lab_f.write(\"Id,Cover_Type\")\n",
    "\n",
    "idx = X.shape[0]\n",
    "                 \n",
    "for pp in predictions:\n",
    "    idx += 1\n",
    "    test_lab_f.write(\"\\n\")\n",
    "    test_lab_f.write(str(idx) + \",\" + str(int(pp)))\n",
    "   \n",
    "test_lab_f.close()"
   ]
  },
  {
   "cell_type": "markdown",
   "metadata": {},
   "source": [
    "###And this is our final result after submitting to Kaggle!**\n",
    "\n",
    "<img src=\"Forest/image/kaggle_result_final.png\">"
   ]
  },
  {
   "cell_type": "markdown",
   "metadata": {},
   "source": [
    "**Accuracy: 79.51% (205th position).**\n",
    "\n",
    "Our **first submission** (using kNN and the whole uncleaned training set, incl. IDs) was **42.04%**.\n",
    "\n",
    "(Though the results in the dev set should be good estimates, now that we had finished we also submitted to Kaggle the results from AdaBoost without engineered features (77.28%) and from the custom ensemble also with AdaBoost predictions without engineered features (77.76%). As expected, the final method also performed better in the test set.)"
   ]
  },
  {
   "cell_type": "markdown",
   "metadata": {},
   "source": [
    "<a id='ANNEXES'></a>"
   ]
  },
  {
   "cell_type": "markdown",
   "metadata": {},
   "source": [
    "----\n",
    "\n",
    "----"
   ]
  },
  {
   "cell_type": "markdown",
   "metadata": {},
   "source": [
    "#ANNEXES\n",
    "\n",
    "<a href='#top'>[Back to top]</a>"
   ]
  },
  {
   "cell_type": "markdown",
   "metadata": {},
   "source": [
    "<a id='Annex_1'></a>"
   ]
  },
  {
   "cell_type": "markdown",
   "metadata": {},
   "source": [
    "##Annex 1: Plotting the training dataset with PCs\n",
    "\n",
    "<a href='#top'>[Back to top]</a>\n",
    "\n",
    "One of our first steps was a Principal Component Analsys (PCA) to plot the training set and find out whether a dimensionality reduction could simplify the models. As shown below, most Cover Types overlapped when using the first 2 PCs, that explained less than 50% of the total variance (that quantity was almost 95% if we did not scale the data, but just because some features have much wider ranges than others)."
   ]
  },
  {
   "cell_type": "code",
   "execution_count": null,
   "metadata": {
    "collapsed": false
   },
   "outputs": [],
   "source": [
    "def plot(dataset):\n",
    "    pc_2 = PCA(n_components=2)\n",
    "    # Transform the coordinates into this new 2-D space\n",
    "    X_train_2pc = pc_2.fit_transform(dataset)\n",
    "    partial_variance = pc_2.explained_variance_ratio_.cumsum()\n",
    "    print partial_variance\n",
    "    # Plot all elements of the training set in this 2-D space\n",
    "    # Plot the projection of each forest in a 2-D space, with a color corresponding to each \n",
    "        # cover type\n",
    "    Colors = plt.cm.rainbow(np.linspace(0, 1, len(np.unique(y_train))))\n",
    "    # Each color is represented by 4 RGBA coordinates\n",
    "    # cover_color = np.empty(4*X_train_2pc.shape[0]).reshape(X_train_2pc .shape[0], 4)\n",
    "    # for i in np.arange(y_train.shape[0]):\n",
    "        # color_index = y_train[i]-1\n",
    "        # Each color is indexed by the cover type\n",
    "        # cover_color[i,:] = Colors[color_index]\n",
    "    plt.figure  (figsize = (8, 8))\n",
    "    cover = np.empty(len(np.unique(y_train))).tolist()\n",
    "    for i in range(len(np.unique(y_train))):\n",
    "        cover[i] = plt.scatter(X_train_2pc[y_train==i+1,0], X_train_2pc[y_train==i+1,1], \n",
    "                               c = Colors[i], alpha = 0.25, s=25, edgecolor='',\n",
    "                               label = 'Cover Type ' + str(i+1))\n",
    "    plt.xlabel(\"1st principal component\")\n",
    "    plt.ylabel(\"2nd principal component\")\n",
    "    plt.title('Forest by Cover Type, projected on a reduced 2-D space')\n",
    "    plt.legend(bbox_to_anchor=(1, 1), loc=2, borderaxespad=1.)\n",
    "\n",
    "    \n",
    "plot(X_train)\n",
    "\n",
    "plot(X_train_std)\n",
    "\n",
    "plot(X_train_minmax)"
   ]
  },
  {
   "cell_type": "markdown",
   "metadata": {},
   "source": [
    "<a id='Annex_2'></a>"
   ]
  },
  {
   "cell_type": "markdown",
   "metadata": {
    "collapsed": true
   },
   "source": [
    "##Annex 2: Feature analysis\n",
    "\n",
    "<a href='#top'>[Back to top]</a>\n",
    "\n",
    "Goal of this analysis is to  identify features that we may be able to engineer for better performance and results.\n",
    "\n",
    " * From the results of Random Forest Analysis Following comes up as 15 more features that are important\n",
    " * Use pairwise feature comparison to try identify correlated features.\n"
   ]
  },
  {
   "cell_type": "code",
   "execution_count": null,
   "metadata": {
    "collapsed": false
   },
   "outputs": [],
   "source": [
    "fet_ind=[]\n",
    "def plot_important_features(rf,nFeatures) :\n",
    "    global fet_ind\n",
    "    plt.figure(figsize=(8, 4))\n",
    "    fet_ind = np.argsort(rf.feature_importances_)[::-1]\n",
    "    fet_imp = rf.feature_importances_[fet_ind][:nFeatures]\n",
    "    feature_names = column_names_test.split(\",\")\n",
    "    feature_names =feature_names[1:]\n",
    "    feature_names_array=np.array(feature_names)[fet_ind]\n",
    "    feature_names=feature_names_array[:nFeatures].tolist()\n",
    "    \n",
    "    print \"%d most important features are\\n\" % nFeatures\n",
    "    print fet_ind[:nFeatures]\n",
    "    print feature_names\n",
    "    \n",
    "    #plot the bar chart for most important features \n",
    "    plt.bar(np.arange(len(fet_imp)), fet_imp, width=1, lw=2)\n",
    "    plt.grid(False)\n",
    "    xt = np.arange(len(fet_imp)+0.5)\n",
    "    ax = plt.subplot(111)\n",
    "    ax.set_xticks(xt)\n",
    "    xlabels=feature_names_array.tolist()\n",
    "    ax.set_xticklabels(xlabels, rotation=90)\n",
    "    plt.xlim(0, len(fet_imp))\n",
    "\n",
    "plot_important_features(RF,15)"
   ]
  },
  {
   "cell_type": "markdown",
   "metadata": {},
   "source": [
    "<a id='Annex3'></a>"
   ]
  },
  {
   "cell_type": "markdown",
   "metadata": {},
   "source": [
    "##Annex 3: Other models (Naive Bayes, Logistic Regression, and SGD)\n",
    "\n",
    "<a href='#top'>[Back to top]</a>\n",
    "\n",
    "We include here the 3 other models that yielded an accuracy lower than 70% (in the dev set)."
   ]
  },
  {
   "cell_type": "markdown",
   "metadata": {},
   "source": [
    "###Naive Bayes"
   ]
  },
  {
   "cell_type": "code",
   "execution_count": null,
   "metadata": {
    "collapsed": false
   },
   "outputs": [],
   "source": [
    "NB_model = GaussianNB()\n",
    "NB_model.fit(X_train_std[:,:10], y_train)\n",
    "dev_predicted_labels = NB_model.predict(X_dev_std[:,:10])\n",
    "print metrics.accuracy_score(y_true=y_dev, y_pred=dev_predicted_labels)\n",
    "print metrics.classification_report(y_dev, dev_predicted_labels)"
   ]
  },
  {
   "cell_type": "markdown",
   "metadata": {},
   "source": [
    "Keep record of the predictions in the dev set, as well as the accuracy (though this model is not ensembled with the better-performing ones):"
   ]
  },
  {
   "cell_type": "code",
   "execution_count": null,
   "metadata": {
    "collapsed": false
   },
   "outputs": [],
   "source": [
    "NB = GaussianNB()\n",
    "NB.fit(X_train_std[:,:10], y_train)\n",
    "pred_y_dev_NB = NB.predict(X_dev_std[:,:10])\n",
    "acc_NB = metrics.accuracy_score(y_dev, pred_y_dev_NB)\n",
    "print acc_NB\n",
    "\n",
    "CM = metrics.confusion_matrix(y_dev, pred_y_dev_NB)\n",
    "acc = CM.astype('f8') / CM.sum(axis=1)[:, np.newaxis]\n",
    "acc_NB_perType = np.diag(acc)\n",
    "print acc_NB_perType"
   ]
  },
  {
   "cell_type": "markdown",
   "metadata": {},
   "source": [
    "###Logistic Regression"
   ]
  },
  {
   "cell_type": "code",
   "execution_count": null,
   "metadata": {
    "collapsed": false
   },
   "outputs": [],
   "source": [
    "#Using training data scaled to 0 -> 1 \n",
    "\n",
    "logR = LogisticRegression(penalty='l2',C=10)\n",
    "logR.fit(X_train_minmax, y_train)\n",
    "y_pred = logR.predict(X_dev_minmax)\n",
    "\n",
    "print \"### Using training data scaled to 0 -> 1 ###\\n\"\n",
    "\n",
    "#print metrics.f1_score(y_dev, y_pred, average='macro')\n",
    "print classification_report(y_dev,y_pred)\n",
    "# Confusion Matrix\n",
    "CM = metrics.confusion_matrix(y_dev, y_pred)\n",
    "CM_percentage = np.around(100*CM.astype('f2') / CM.sum(axis=1)[:, np.newaxis], 1)\n",
    "\n",
    "#Regular data\n",
    "logR = LogisticRegression(penalty='l2',C=10)\n",
    "logR.fit(X_train, y_train)\n",
    "y_pred = logR.predict(X_dev)\n",
    "\n",
    "print \"### Regular data ###\\n\"\n",
    "#print metrics.f1_score(y_dev, y_pred, average='macro')\n",
    "print classification_report(y_dev,y_pred)\n",
    "# Confusion Matrix\n",
    "CM = metrics.confusion_matrix(y_dev, y_pred)\n",
    "CM_percentage = np.around(100*CM.astype('f2') / CM.sum(axis=1)[:, np.newaxis], 1)\n",
    "\n",
    "#Using training data scaled to mean 0 and variance 1\n",
    "logR = LogisticRegression(penalty='l2',C=10)\n",
    "logR.fit(X_train_std[:,:10], y_train)\n",
    "y_pred = logR.predict(X_dev_std[:,:10])\n",
    "\n",
    "print \"### Using training data scaled to mean 0 and variance 1 ###\"\n",
    "#print metrics.f1_score(y_dev, y_pred, average='macro')\n",
    "print classification_report(y_dev,y_pred)\n",
    "# Confusion Matrix\n",
    "CM = metrics.confusion_matrix(y_dev, y_pred)\n",
    "CM_percentage = np.around(100*CM.astype('f2') / CM.sum(axis=1)[:, np.newaxis], 1)"
   ]
  },
  {
   "cell_type": "markdown",
   "metadata": {},
   "source": [
    "Keep record of the predictions in the dev set, as well as the accuracy (though this model is not ensembled with the better-performing ones):"
   ]
  },
  {
   "cell_type": "code",
   "execution_count": null,
   "metadata": {
    "collapsed": false
   },
   "outputs": [],
   "source": [
    "LR = LogisticRegression(penalty='l2',C=10)\n",
    "LR.fit(X_train_minmax, y_train)\n",
    "pred_y_dev_LR = LR.predict(X_dev_minmax)\n",
    "acc_LR = metrics.accuracy_score(y_dev, pred_y_dev_LR)\n",
    "print acc_LR\n",
    "\n",
    "CM = metrics.confusion_matrix(y_dev, pred_y_dev_LR)\n",
    "acc = CM.astype('f8') / CM.sum(axis=1)[:, np.newaxis]\n",
    "acc_LR_perType = np.diag(acc)\n",
    "print acc_LR_perType"
   ]
  },
  {
   "cell_type": "markdown",
   "metadata": {},
   "source": [
    "###Stochastic Gradient Descent (SGD)"
   ]
  },
  {
   "cell_type": "code",
   "execution_count": null,
   "metadata": {
    "collapsed": false
   },
   "outputs": [],
   "source": [
    "sgd_clf = linear_model.SGDClassifier(alpha=0.001, n_iter=1000)\n",
    "sgd_clf.fit(X_train_minmax, y_train)\n",
    "y_dev_sgd= sgd_clf.predict(X_dev_minmax)\n",
    "print metrics.classification_report(y_dev, y_dev_sgd)\n",
    "print metrics.accuracy_score(y_dev, y_dev_sgd)"
   ]
  },
  {
   "cell_type": "markdown",
   "metadata": {},
   "source": [
    "Keep record of the predictions in the dev set, as well as the accuracy (though this model is not ensembled with the better-performing ones):"
   ]
  },
  {
   "cell_type": "code",
   "execution_count": null,
   "metadata": {
    "collapsed": false
   },
   "outputs": [],
   "source": [
    "SGD = linear_model.SGDClassifier(alpha=0.001, n_iter=1000)\n",
    "SGD.fit(X_train_minmax, y_train)\n",
    "pred_y_dev_SGD = SGD.predict(X_dev_minmax)\n",
    "acc_SGD = metrics.accuracy_score(y_dev, pred_y_dev_SGD)\n",
    "print acc_SGD\n",
    "\n",
    "CM = metrics.confusion_matrix(y_dev, pred_y_dev_SGD)\n",
    "acc = CM.astype('f8') / CM.sum(axis=1)[:, np.newaxis]\n",
    "acc_SGD_perType = np.diag(acc)\n",
    "print acc_SGD_perType"
   ]
  }
 ],
 "metadata": {
  "kernelspec": {
   "display_name": "Python 2",
   "language": "python",
   "name": "python2"
  },
  "language_info": {
   "codemirror_mode": {
    "name": "ipython",
    "version": 2
   },
   "file_extension": ".py",
   "mimetype": "text/x-python",
   "name": "python",
   "nbconvert_exporter": "python",
   "pygments_lexer": "ipython2",
   "version": "2.7.9"
  }
 },
 "nbformat": 4,
 "nbformat_minor": 0
}
